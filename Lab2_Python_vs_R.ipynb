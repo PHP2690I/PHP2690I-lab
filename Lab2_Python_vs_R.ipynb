{
 "cells": [
  {
   "metadata": {},
   "cell_type": "markdown",
   "source": [
    "# Lab 2 Transition to Python from R\n",
    "\n",
    "In this lab, you will see the major differences between R and Python. After this lab, you are expected to perform these basic operations in Python: \n",
    "\n",
    "1. [Documentation](#Documentation)\n",
    "2. [Declare variables](#Declare-Variables)\n",
    "3. [Data types](#Data-Types)\n",
    "    - [Int and Float](#Int-and-Float)\n",
    "    - [String](#String)\n",
    "    - [Boolean](#Boolean)\n",
    "    - [List](#List)\n",
    "    - [Tuple](#Tuple)\n",
    "    - [Set](#Set)\n",
    "    - [Dictionary](#Dictionary)\n",
    "    - [Object Reference](#Object-Reference)\n",
    "4. [If-Else](#If-Else)\n",
    "5. [Loops](#Loops)\n",
    "6. [Functions](#Functions)\n",
    "7. [Numpy Arrays](#Numpy-Arrays)\n",
    "8. [Data Frames](#Data-Frames)\n",
    "9. [Some practice](#Some-Practice)\n",
    "    - [Binary Search](#Binary-Search)\n",
    "    - [Two-Sum](#Two-Sum)\n",
    "    - [Pandas](#Pandas)"
   ],
   "id": "17a9345fd5b2479c"
  },
  {
   "metadata": {},
   "cell_type": "markdown",
   "source": [
    "## Documentation\n",
    "\n",
    "In R, you can access the documentation of a function by inputting `?function_name`. However, in Python, as well as other modern programming languages, we usually read the full documentation online. And if you are using a modern IDE like PyCharm, or a very nice code editor like VS Code, you can also see the documentation of a function by hovering over the function name.\n",
    "\n",
    "For example, I would like to know what `List` can do, I will go to the [official documentation](https://docs.python.org/3/tutorial/datastructures.html) to find the answer.\n",
    "\n",
    "Reading the documentation is a very important skill for a programmer. It is not only about how to use a function, but also about how to use it efficiently. "
   ],
   "id": "e76ece38dc9d812a"
  },
  {
   "metadata": {},
   "cell_type": "markdown",
   "source": [
    "## Declare Variables\n",
    "\n",
    "In R, you can declare a variable like this: \n",
    "```R\n",
    "x <- 5\n",
    "```\n",
    "But in Python, you declare a variable like this:"
   ],
   "id": "d76ba16f5d4d1ea0"
  },
  {
   "metadata": {
    "ExecuteTime": {
     "end_time": "2025-01-11T21:37:52.877900Z",
     "start_time": "2025-01-11T21:37:52.873554Z"
    }
   },
   "cell_type": "code",
   "source": [
    "x = 5\n",
    "x"
   ],
   "id": "222ee3c95f0d7118",
   "outputs": [
    {
     "data": {
      "text/plain": [
       "5"
      ]
     },
     "execution_count": 1,
     "metadata": {},
     "output_type": "execute_result"
    }
   ],
   "execution_count": 1
  },
  {
   "metadata": {},
   "cell_type": "markdown",
   "source": [
    "## Data Types\n",
    "\n",
    "Let's take a look at the most basic data types in Python: int, float, string, and boolean.\n",
    "\n",
    "### Int and Float\n",
    "Integers, can be usually found in most of the programming languages, which usually have 32 bits (c++), meaning that an int variable can store a number from -2^31 to 2^31 - 1. But in Python, it is very different, there is no such limitation. You can store a very large number in an integer variable.\n",
    "\n",
    "Floats are numbers with a decimal point. In Python, the built-in float type is an implementation of a double-precision (64-bit) floating-point number, typically following the IEEE 754 standard. This means it has:\n",
    "\n",
    "- About 15–17 significant digits of precision.\n",
    "- A (roughly) 3.4 × 10^(-308) to 1.7 × 10^(308) range in magnitude.\n",
    "- Special representations for infinity and NaN.\n",
    "\n",
    "Unlike Python’s int, which can grow arbitrarily large given enough memory, the size and precision of a float are limited by its internal binary representation."
   ],
   "id": "97f6091c8703af48"
  },
  {
   "metadata": {
    "ExecuteTime": {
     "end_time": "2025-01-15T03:03:38.650786Z",
     "start_time": "2025-01-15T03:03:38.648290Z"
    }
   },
   "cell_type": "code",
   "source": [
    "# declare an integer\n",
    "x = 5\n",
    "type(x)"
   ],
   "id": "954aab23395317d5",
   "outputs": [
    {
     "data": {
      "text/plain": [
       "int"
      ]
     },
     "execution_count": 65,
     "metadata": {},
     "output_type": "execute_result"
    }
   ],
   "execution_count": 65
  },
  {
   "metadata": {
    "ExecuteTime": {
     "end_time": "2025-01-15T03:11:39.040662Z",
     "start_time": "2025-01-15T03:11:39.037056Z"
    }
   },
   "cell_type": "code",
   "source": [
    "# store a very big number into integer\n",
    "x = 300000000000000\n",
    "type(x)"
   ],
   "id": "8521a4fb41898bf1",
   "outputs": [
    {
     "data": {
      "text/plain": [
       "int"
      ]
     },
     "execution_count": 71,
     "metadata": {},
     "output_type": "execute_result"
    }
   ],
   "execution_count": 71
  },
  {
   "metadata": {
    "ExecuteTime": {
     "end_time": "2025-01-15T03:03:39.425232Z",
     "start_time": "2025-01-15T03:03:39.422542Z"
    }
   },
   "cell_type": "code",
   "source": [
    "# declare a float\n",
    "y = 5.0\n",
    "type(y)"
   ],
   "id": "2a07192d0fa227b6",
   "outputs": [
    {
     "data": {
      "text/plain": [
       "int"
      ]
     },
     "execution_count": 66,
     "metadata": {},
     "output_type": "execute_result"
    }
   ],
   "execution_count": 66
  },
  {
   "metadata": {
    "ExecuteTime": {
     "end_time": "2025-01-15T03:18:19.835491Z",
     "start_time": "2025-01-15T03:18:19.831250Z"
    }
   },
   "cell_type": "code",
   "source": [
    "# inf in float\n",
    "y = float('inf')\n",
    "y"
   ],
   "id": "54950f065bbbc623",
   "outputs": [
    {
     "data": {
      "text/plain": [
       "inf"
      ]
     },
     "execution_count": 72,
     "metadata": {},
     "output_type": "execute_result"
    }
   ],
   "execution_count": 72
  },
  {
   "metadata": {
    "ExecuteTime": {
     "end_time": "2025-01-15T03:18:32.957128Z",
     "start_time": "2025-01-15T03:18:32.954406Z"
    }
   },
   "cell_type": "code",
   "source": [
    "# nan in float\n",
    "y = float('nan')\n",
    "y"
   ],
   "id": "a55254f36471eda3",
   "outputs": [
    {
     "data": {
      "text/plain": [
       "nan"
      ]
     },
     "execution_count": 73,
     "metadata": {},
     "output_type": "execute_result"
    }
   ],
   "execution_count": 73
  },
  {
   "metadata": {},
   "cell_type": "markdown",
   "source": [
    "### String\n",
    "\n",
    "In Python, you can declare a string like this:"
   ],
   "id": "42737328d838e243"
  },
  {
   "metadata": {
    "ExecuteTime": {
     "end_time": "2025-01-15T04:05:44.270708Z",
     "start_time": "2025-01-15T04:05:44.266959Z"
    }
   },
   "cell_type": "code",
   "source": [
    "x = 'Hello, World!'\n",
    "print(x)"
   ],
   "id": "ba8a7eacf7b5e6e8",
   "outputs": [
    {
     "name": "stdout",
     "output_type": "stream",
     "text": [
      "Hello, World!\n"
     ]
    }
   ],
   "execution_count": 74
  },
  {
   "metadata": {},
   "cell_type": "markdown",
   "source": "And concatenate strings in Python is very easy:",
   "id": "75f2fc997510c198"
  },
  {
   "metadata": {
    "ExecuteTime": {
     "end_time": "2025-01-15T04:06:13.709631Z",
     "start_time": "2025-01-15T04:06:13.707480Z"
    }
   },
   "cell_type": "code",
   "source": [
    "x = 'Hello, ' + 'World!'\n",
    "print(x)"
   ],
   "id": "7b1923256df21afa",
   "outputs": [
    {
     "name": "stdout",
     "output_type": "stream",
     "text": [
      "Hello, World!\n"
     ]
    }
   ],
   "execution_count": 75
  },
  {
   "metadata": {},
   "cell_type": "markdown",
   "source": "And let's say you have a variable that you want to insert into a string, you have several options to do that:",
   "id": "590a4cf7d7549f61"
  },
  {
   "metadata": {
    "ExecuteTime": {
     "end_time": "2025-01-15T04:07:58.228097Z",
     "start_time": "2025-01-15T04:07:58.225395Z"
    }
   },
   "cell_type": "code",
   "source": [
    "name = 'William'\n",
    "\n",
    "# option 1 with f-string\n",
    "x = f'Hello, {name}!'\n",
    "\n",
    "# option 2 with format function\n",
    "y = 'Hello, {}!'.format(name)\n",
    "\n",
    "# option 3 with % operator\n",
    "z = 'Hello, %s!' % name\n",
    "\n",
    "# option 4 with + operator\n",
    "w = 'Hello, ' + name + '!'\n",
    "\n",
    "print(x)\n",
    "print(y)\n",
    "print(z)\n",
    "print(w)"
   ],
   "id": "2fe7a01c26a27ecd",
   "outputs": [
    {
     "name": "stdout",
     "output_type": "stream",
     "text": [
      "Hello, William!\n",
      "Hello, William!\n",
      "Hello, William!\n",
      "Hello, William!\n"
     ]
    }
   ],
   "execution_count": 76
  },
  {
   "metadata": {},
   "cell_type": "markdown",
   "source": [
    "### Boolean\n",
    "\n",
    "Boolean is a data type that has only two possible values: True and False. In Python, boolean variables are defined by the True and False keywords."
   ],
   "id": "ea90bf317dc36004"
  },
  {
   "metadata": {
    "ExecuteTime": {
     "end_time": "2025-01-15T04:08:51.451405Z",
     "start_time": "2025-01-15T04:08:51.448963Z"
    }
   },
   "cell_type": "code",
   "source": [
    "x = True\n",
    "type(x)"
   ],
   "id": "ec5196d839dd3eba",
   "outputs": [
    {
     "data": {
      "text/plain": [
       "bool"
      ]
     },
     "execution_count": 77,
     "metadata": {},
     "output_type": "execute_result"
    }
   ],
   "execution_count": 77
  },
  {
   "metadata": {
    "ExecuteTime": {
     "end_time": "2025-01-15T04:09:02.501992Z",
     "start_time": "2025-01-15T04:09:02.499547Z"
    }
   },
   "cell_type": "code",
   "source": [
    "y = False\n",
    "type(y)"
   ],
   "id": "53852803301f03ab",
   "outputs": [
    {
     "data": {
      "text/plain": [
       "bool"
      ]
     },
     "execution_count": 78,
     "metadata": {},
     "output_type": "execute_result"
    }
   ],
   "execution_count": 78
  },
  {
   "metadata": {
    "ExecuteTime": {
     "end_time": "2025-01-15T04:09:26.816949Z",
     "start_time": "2025-01-15T04:09:26.814756Z"
    }
   },
   "cell_type": "code",
   "source": [
    "print(x and y)\n",
    "print(x & y)"
   ],
   "id": "397ae7c0f8f5a459",
   "outputs": [
    {
     "name": "stdout",
     "output_type": "stream",
     "text": [
      "False\n",
      "False\n"
     ]
    }
   ],
   "execution_count": 80
  },
  {
   "metadata": {
    "ExecuteTime": {
     "end_time": "2025-01-15T04:09:33.716508Z",
     "start_time": "2025-01-15T04:09:33.714543Z"
    }
   },
   "cell_type": "code",
   "source": [
    "print(x or y)\n",
    "print(x | y)"
   ],
   "id": "ce4c63d315733f5e",
   "outputs": [
    {
     "name": "stdout",
     "output_type": "stream",
     "text": [
      "True\n",
      "True\n"
     ]
    }
   ],
   "execution_count": 81
  },
  {
   "metadata": {},
   "cell_type": "markdown",
   "source": "1 and 0 are not boolean values in Python, they are integers. But you can use them as boolean values in Python. 0 is False and 1 is True.",
   "id": "31438836b6e24388"
  },
  {
   "metadata": {
    "ExecuteTime": {
     "end_time": "2025-01-15T04:10:50.528669Z",
     "start_time": "2025-01-15T04:10:50.526651Z"
    }
   },
   "cell_type": "code",
   "source": "1 and 0",
   "id": "6b43d8e8b6ee0261",
   "outputs": [
    {
     "data": {
      "text/plain": [
       "0"
      ]
     },
     "execution_count": 84,
     "metadata": {},
     "output_type": "execute_result"
    }
   ],
   "execution_count": 84
  },
  {
   "metadata": {
    "ExecuteTime": {
     "end_time": "2025-01-15T04:10:56.011291Z",
     "start_time": "2025-01-15T04:10:56.008758Z"
    }
   },
   "cell_type": "code",
   "source": "1 and 1",
   "id": "cbaa3785758f55ac",
   "outputs": [
    {
     "data": {
      "text/plain": [
       "1"
      ]
     },
     "execution_count": 85,
     "metadata": {},
     "output_type": "execute_result"
    }
   ],
   "execution_count": 85
  },
  {
   "metadata": {
    "ExecuteTime": {
     "end_time": "2025-01-15T04:11:28.746485Z",
     "start_time": "2025-01-15T04:11:28.744431Z"
    }
   },
   "cell_type": "code",
   "source": "0 and 0",
   "id": "ffd54ce36ff63a7b",
   "outputs": [
    {
     "data": {
      "text/plain": [
       "0"
      ]
     },
     "execution_count": 87,
     "metadata": {},
     "output_type": "execute_result"
    }
   ],
   "execution_count": 87
  },
  {
   "metadata": {
    "ExecuteTime": {
     "end_time": "2025-01-15T04:11:01.929590Z",
     "start_time": "2025-01-15T04:11:01.927251Z"
    }
   },
   "cell_type": "code",
   "source": "1 or 0",
   "id": "d3ed10425e26aa23",
   "outputs": [
    {
     "data": {
      "text/plain": [
       "1"
      ]
     },
     "execution_count": 86,
     "metadata": {},
     "output_type": "execute_result"
    }
   ],
   "execution_count": 86
  },
  {
   "metadata": {},
   "cell_type": "markdown",
   "source": [
    "In Python, you will find those data structures very useful: list, tuple, set, dictionary (those are all built-in data types in Python, we will talk about useful libraries later).\n",
    "\n",
    "### List\n",
    "\n",
    "A list can be declared like this:"
   ],
   "id": "f1869938b26b79f1"
  },
  {
   "metadata": {
    "ExecuteTime": {
     "end_time": "2025-01-15T04:35:48.912190Z",
     "start_time": "2025-01-15T04:35:48.909882Z"
    }
   },
   "cell_type": "code",
   "source": [
    "x = [1, 20, 32, 41, 57]\n",
    "type(x)"
   ],
   "id": "df764141dff44207",
   "outputs": [
    {
     "data": {
      "text/plain": [
       "list"
      ]
     },
     "execution_count": 108,
     "metadata": {},
     "output_type": "execute_result"
    }
   ],
   "execution_count": 108
  },
  {
   "metadata": {},
   "cell_type": "markdown",
   "source": "And please note that, the index in Python as well as the rest of the common programming languages starts from 0. So, if you want to access the first element in the list, you should use `x[0]` instead of `x[1]`.",
   "id": "59bb7aac5f3462cb"
  },
  {
   "metadata": {
    "ExecuteTime": {
     "end_time": "2025-01-15T04:35:49.971207Z",
     "start_time": "2025-01-15T04:35:49.968899Z"
    }
   },
   "cell_type": "code",
   "source": [
    "# access the first element\n",
    "x[0]"
   ],
   "id": "d1b0f89faee0b328",
   "outputs": [
    {
     "data": {
      "text/plain": [
       "1"
      ]
     },
     "execution_count": 109,
     "metadata": {},
     "output_type": "execute_result"
    }
   ],
   "execution_count": 109
  },
  {
   "metadata": {
    "ExecuteTime": {
     "end_time": "2025-01-15T04:35:51.636992Z",
     "start_time": "2025-01-15T04:35:51.634821Z"
    }
   },
   "cell_type": "code",
   "source": [
    "# access the last element\n",
    "x[-1]"
   ],
   "id": "b136b3ba3f758445",
   "outputs": [
    {
     "data": {
      "text/plain": [
       "57"
      ]
     },
     "execution_count": 110,
     "metadata": {},
     "output_type": "execute_result"
    }
   ],
   "execution_count": 110
  },
  {
   "metadata": {
    "ExecuteTime": {
     "end_time": "2025-01-15T04:35:58.053706Z",
     "start_time": "2025-01-15T04:35:58.051612Z"
    }
   },
   "cell_type": "code",
   "source": [
    "# remove specific element\n",
    "x.remove(20)\n",
    "x"
   ],
   "id": "16a6dd65c6a29dd5",
   "outputs": [
    {
     "data": {
      "text/plain": [
       "[1, 32, 41, 57]"
      ]
     },
     "execution_count": 112,
     "metadata": {},
     "output_type": "execute_result"
    }
   ],
   "execution_count": 112
  },
  {
   "metadata": {
    "ExecuteTime": {
     "end_time": "2025-01-15T04:37:16.414192Z",
     "start_time": "2025-01-15T04:37:16.411689Z"
    }
   },
   "cell_type": "code",
   "source": [
    "# remove specific element by index\n",
    "x.pop(2) # remove the third element\n",
    "x"
   ],
   "id": "2e15209c7bf6b32f",
   "outputs": [
    {
     "data": {
      "text/plain": [
       "[1, 32, 57]"
      ]
     },
     "execution_count": 113,
     "metadata": {},
     "output_type": "execute_result"
    }
   ],
   "execution_count": 113
  },
  {
   "metadata": {
    "ExecuteTime": {
     "end_time": "2025-01-15T04:37:45.042111Z",
     "start_time": "2025-01-15T04:37:45.039941Z"
    }
   },
   "cell_type": "code",
   "source": [
    "# add an element at index\n",
    "x.insert(1, 20) # add 20 at index 1\n",
    "x"
   ],
   "id": "8ec472904ecf8158",
   "outputs": [
    {
     "data": {
      "text/plain": [
       "[1, 20, 32, 57]"
      ]
     },
     "execution_count": 114,
     "metadata": {},
     "output_type": "execute_result"
    }
   ],
   "execution_count": 114
  },
  {
   "metadata": {},
   "cell_type": "markdown",
   "source": "Note that Lists are very flexible, it can even store different types of data in the same list.",
   "id": "1d54f4a0c0ed0ac0"
  },
  {
   "metadata": {
    "ExecuteTime": {
     "end_time": "2025-01-15T04:41:53.483922Z",
     "start_time": "2025-01-15T04:41:53.481002Z"
    }
   },
   "cell_type": "code",
   "source": [
    "x = [\"A\", 1, True, False]\n",
    "x"
   ],
   "id": "40cbf366c158fa4b",
   "outputs": [
    {
     "data": {
      "text/plain": [
       "['A', 1, True, False]"
      ]
     },
     "execution_count": 118,
     "metadata": {},
     "output_type": "execute_result"
    }
   ],
   "execution_count": 118
  },
  {
   "metadata": {},
   "cell_type": "markdown",
   "source": "And it is very easy to contact two lists in Python:",
   "id": "466621c95bd87874"
  },
  {
   "metadata": {
    "ExecuteTime": {
     "end_time": "2025-01-15T04:42:45.394163Z",
     "start_time": "2025-01-15T04:42:45.391478Z"
    }
   },
   "cell_type": "code",
   "source": [
    "x = [1, 2, 3]\n",
    "y = [4, 5, 6]\n",
    "z = x + y\n",
    "z"
   ],
   "id": "4d3efd2846076730",
   "outputs": [
    {
     "data": {
      "text/plain": [
       "[1, 2, 3, 4, 5, 6]"
      ]
     },
     "execution_count": 119,
     "metadata": {},
     "output_type": "execute_result"
    }
   ],
   "execution_count": 119
  },
  {
   "metadata": {
    "ExecuteTime": {
     "end_time": "2025-01-15T04:43:17.551166Z",
     "start_time": "2025-01-15T04:43:17.549335Z"
    }
   },
   "cell_type": "code",
   "source": [
    "x = [1,2,3]\n",
    "y = [4,5]\n",
    "x.extend(y)\n",
    "print(x)"
   ],
   "id": "6e37ac265abb2e6e",
   "outputs": [
    {
     "name": "stdout",
     "output_type": "stream",
     "text": [
      "[1, 2, 3, 4, 5]\n"
     ]
    }
   ],
   "execution_count": 121
  },
  {
   "metadata": {},
   "cell_type": "markdown",
   "source": [
    "### Tuple\n",
    "\n",
    "A tuple is something like a list, but it is immutable. Usually, a tuple is used when you want to make sure the data is not changed."
   ],
   "id": "82a36610dbdb07fc"
  },
  {
   "metadata": {
    "ExecuteTime": {
     "end_time": "2025-01-15T04:39:25.730953Z",
     "start_time": "2025-01-15T04:39:25.722639Z"
    }
   },
   "cell_type": "code",
   "source": [
    "# unchangeable\n",
    "x = (1, 2, 3, 4, 5)\n",
    "x[1] = 3\n"
   ],
   "id": "57fdb00404bf99fa",
   "outputs": [
    {
     "ename": "TypeError",
     "evalue": "'tuple' object does not support item assignment",
     "output_type": "error",
     "traceback": [
      "\u001B[0;31m---------------------------------------------------------------------------\u001B[0m",
      "\u001B[0;31mTypeError\u001B[0m                                 Traceback (most recent call last)",
      "Cell \u001B[0;32mIn[116], line 2\u001B[0m\n\u001B[1;32m      1\u001B[0m x \u001B[38;5;241m=\u001B[39m (\u001B[38;5;241m1\u001B[39m, \u001B[38;5;241m2\u001B[39m, \u001B[38;5;241m3\u001B[39m, \u001B[38;5;241m4\u001B[39m, \u001B[38;5;241m5\u001B[39m)\n\u001B[0;32m----> 2\u001B[0m x[\u001B[38;5;241m1\u001B[39m] \u001B[38;5;241m=\u001B[39m \u001B[38;5;241m3\u001B[39m\n",
      "\u001B[0;31mTypeError\u001B[0m: 'tuple' object does not support item assignment"
     ]
    }
   ],
   "execution_count": 116
  },
  {
   "metadata": {
    "ExecuteTime": {
     "end_time": "2025-01-15T04:40:38.618979Z",
     "start_time": "2025-01-15T04:40:38.616971Z"
    }
   },
   "cell_type": "code",
   "source": [
    "# access the first element\n",
    "x[0]"
   ],
   "id": "438650596c5991ae",
   "outputs": [
    {
     "data": {
      "text/plain": [
       "1"
      ]
     },
     "execution_count": 117,
     "metadata": {},
     "output_type": "execute_result"
    }
   ],
   "execution_count": 117
  },
  {
   "metadata": {
    "ExecuteTime": {
     "end_time": "2025-01-15T04:39:12.658483Z",
     "start_time": "2025-01-15T04:39:12.656262Z"
    }
   },
   "cell_type": "code",
   "source": [
    "# convert a string to a tuple\n",
    "x = \"hello\"\n",
    "x = tuple(x)\n",
    "x"
   ],
   "id": "a50e953172340663",
   "outputs": [
    {
     "data": {
      "text/plain": [
       "('h', 'e', 'l', 'l', 'o')"
      ]
     },
     "execution_count": 115,
     "metadata": {},
     "output_type": "execute_result"
    }
   ],
   "execution_count": 115
  },
  {
   "metadata": {},
   "cell_type": "markdown",
   "source": [
    "### Set\n",
    "\n",
    "Now, let's talk about set. A set is an unordered collection of items. Every element is unique (no duplicates) and must be immutable (which cannot be changed)."
   ],
   "id": "7e49f97b0be1351f"
  },
  {
   "metadata": {
    "ExecuteTime": {
     "end_time": "2025-01-14T05:09:20.608317Z",
     "start_time": "2025-01-14T05:09:20.606285Z"
    }
   },
   "cell_type": "code",
   "source": "x = {1, 2, 3, 4, 5}",
   "id": "8af193c08feb46ac",
   "outputs": [],
   "execution_count": 40
  },
  {
   "metadata": {
    "ExecuteTime": {
     "end_time": "2025-01-14T05:09:46.268428Z",
     "start_time": "2025-01-14T05:09:46.259017Z"
    }
   },
   "cell_type": "code",
   "source": "x[0] # unordered",
   "id": "712b1cd89ee5dfd6",
   "outputs": [
    {
     "ename": "TypeError",
     "evalue": "'set' object is not subscriptable",
     "output_type": "error",
     "traceback": [
      "\u001B[0;31m---------------------------------------------------------------------------\u001B[0m",
      "\u001B[0;31mTypeError\u001B[0m                                 Traceback (most recent call last)",
      "Cell \u001B[0;32mIn[41], line 1\u001B[0m\n\u001B[0;32m----> 1\u001B[0m x[\u001B[38;5;241m1\u001B[39m]\n",
      "\u001B[0;31mTypeError\u001B[0m: 'set' object is not subscriptable"
     ]
    }
   ],
   "execution_count": 41
  },
  {
   "metadata": {
    "ExecuteTime": {
     "end_time": "2025-01-15T04:44:17.834781Z",
     "start_time": "2025-01-15T04:44:17.831373Z"
    }
   },
   "cell_type": "code",
   "source": [
    "x = {1, 2, 3, 4, 5, 5}\n",
    "x # no duplicates"
   ],
   "id": "dba99977f05547bb",
   "outputs": [
    {
     "data": {
      "text/plain": [
       "{1, 2, 3, 4, 5}"
      ]
     },
     "execution_count": 123,
     "metadata": {},
     "output_type": "execute_result"
    }
   ],
   "execution_count": 123
  },
  {
   "metadata": {
    "ExecuteTime": {
     "end_time": "2025-01-15T04:44:18.211418Z",
     "start_time": "2025-01-15T04:44:18.209082Z"
    }
   },
   "cell_type": "code",
   "source": [
    "x.pop() # the way to remove the first element\n",
    "x.remove(2) # the way to remove a specific element\n",
    "x"
   ],
   "id": "fbd8da5ab921ab2b",
   "outputs": [
    {
     "data": {
      "text/plain": [
       "{3, 4, 5}"
      ]
     },
     "execution_count": 124,
     "metadata": {},
     "output_type": "execute_result"
    }
   ],
   "execution_count": 124
  },
  {
   "metadata": {
    "ExecuteTime": {
     "end_time": "2025-01-15T04:44:18.594509Z",
     "start_time": "2025-01-15T04:44:18.592390Z"
    }
   },
   "cell_type": "code",
   "source": [
    "# add an element\n",
    "x.add(6)\n",
    "x"
   ],
   "id": "87d1d24469b424be",
   "outputs": [
    {
     "data": {
      "text/plain": [
       "{3, 4, 5, 6}"
      ]
     },
     "execution_count": 125,
     "metadata": {},
     "output_type": "execute_result"
    }
   ],
   "execution_count": 125
  },
  {
   "metadata": {
    "ExecuteTime": {
     "end_time": "2025-01-15T04:44:19.088303Z",
     "start_time": "2025-01-15T04:44:19.086258Z"
    }
   },
   "cell_type": "code",
   "source": [
    "# combine two sets\n",
    "y = {7, 8, 9}\n",
    "x.union(y)"
   ],
   "id": "bd860b8daa3e6ea",
   "outputs": [
    {
     "data": {
      "text/plain": [
       "{3, 4, 5, 6, 7, 8, 9}"
      ]
     },
     "execution_count": 126,
     "metadata": {},
     "output_type": "execute_result"
    }
   ],
   "execution_count": 126
  },
  {
   "metadata": {},
   "cell_type": "markdown",
   "source": [
    "### Dictionary\n",
    "\n",
    "And the last one is dictionary. A dictionary is a collection which is unordered, changeable and indexed. In Python, dictionaries are written with curly brackets, and they have keys and values."
   ],
   "id": "3c050c4049dc4bdc"
  },
  {
   "metadata": {
    "ExecuteTime": {
     "end_time": "2025-01-15T04:44:41.854737Z",
     "start_time": "2025-01-15T04:44:41.852226Z"
    }
   },
   "cell_type": "code",
   "source": [
    "x = {'a': 1, \n",
    "     'b': 2, \n",
    "     'c': 3}\n",
    "\n",
    "x['a']"
   ],
   "id": "e0068ffec50e6492",
   "outputs": [
    {
     "data": {
      "text/plain": [
       "1"
      ]
     },
     "execution_count": 127,
     "metadata": {},
     "output_type": "execute_result"
    }
   ],
   "execution_count": 127
  },
  {
   "metadata": {
    "ExecuteTime": {
     "end_time": "2025-01-15T04:44:42.057787Z",
     "start_time": "2025-01-15T04:44:42.055666Z"
    }
   },
   "cell_type": "code",
   "source": [
    "# show all keys\n",
    "x.keys()"
   ],
   "id": "969c4c5f7f052288",
   "outputs": [
    {
     "data": {
      "text/plain": [
       "dict_keys(['a', 'b', 'c'])"
      ]
     },
     "execution_count": 128,
     "metadata": {},
     "output_type": "execute_result"
    }
   ],
   "execution_count": 128
  },
  {
   "metadata": {
    "ExecuteTime": {
     "end_time": "2025-01-15T04:44:42.426993Z",
     "start_time": "2025-01-15T04:44:42.424361Z"
    }
   },
   "cell_type": "code",
   "source": [
    "# show all values\n",
    "x.values()"
   ],
   "id": "df536ed6b9e44a90",
   "outputs": [
    {
     "data": {
      "text/plain": [
       "dict_values([1, 2, 3])"
      ]
     },
     "execution_count": 129,
     "metadata": {},
     "output_type": "execute_result"
    }
   ],
   "execution_count": 129
  },
  {
   "metadata": {
    "ExecuteTime": {
     "end_time": "2025-01-15T04:44:42.715209Z",
     "start_time": "2025-01-15T04:44:42.712893Z"
    }
   },
   "cell_type": "code",
   "source": [
    "# remove an element\n",
    "x.pop('a')\n",
    "x"
   ],
   "id": "49dc7a8d08cf4bd4",
   "outputs": [
    {
     "data": {
      "text/plain": [
       "{'b': 2, 'c': 3}"
      ]
     },
     "execution_count": 130,
     "metadata": {},
     "output_type": "execute_result"
    }
   ],
   "execution_count": 130
  },
  {
   "metadata": {
    "ExecuteTime": {
     "end_time": "2025-01-15T04:44:43.038520Z",
     "start_time": "2025-01-15T04:44:43.036230Z"
    }
   },
   "cell_type": "code",
   "source": [
    "# add an element\n",
    "x['d'] = 4\n",
    "x"
   ],
   "id": "bca36ac4c9485b27",
   "outputs": [
    {
     "data": {
      "text/plain": [
       "{'b': 2, 'c': 3, 'd': 4}"
      ]
     },
     "execution_count": 131,
     "metadata": {},
     "output_type": "execute_result"
    }
   ],
   "execution_count": 131
  },
  {
   "metadata": {
    "ExecuteTime": {
     "end_time": "2025-01-15T04:44:47.472987Z",
     "start_time": "2025-01-15T04:44:47.470757Z"
    }
   },
   "cell_type": "code",
   "source": [
    "# combine two dictionaries\n",
    "y = {'e': 5, 'f': 6}\n",
    "x.update(y)\n",
    "x"
   ],
   "id": "b1b0fa3918dafca7",
   "outputs": [
    {
     "data": {
      "text/plain": [
       "{'b': 2, 'c': 3, 'd': 4, 'e': 5, 'f': 6}"
      ]
     },
     "execution_count": 133,
     "metadata": {},
     "output_type": "execute_result"
    }
   ],
   "execution_count": 133
  },
  {
   "metadata": {},
   "cell_type": "markdown",
   "source": "Sets and Dictionary are implemented as hash tables in Python, so they are very fast when you want to search for an element. But the order of the elements is not guaranteed. If you want to keep the order of the elements. Both of the data types are very good option to speed up your code. This is something that you can't easily find in R.",
   "id": "29dbcc2b55c8b1a0"
  },
  {
   "metadata": {},
   "cell_type": "markdown",
   "source": [
    "### Object Reference\n",
    "\n",
    "Very interestingly, when you stored a list of `[1, 2, 3, 4, 5]` in a variable `x`, you are actually storing the memory address of the list in the variable `x`. So, if you assign `x` to another variable `y`, you are actually assigning the memory address to `y`. This is the reason why if you change the value of `y`, the value of `x` will also be changed. When you want to copy a list to do some modification but don't want to change the original list, you should use `copy` function. This situation also applies to dictionary, set and tuple."
   ],
   "id": "754faeb481c8e3ea"
  },
  {
   "metadata": {},
   "cell_type": "code",
   "outputs": [],
   "execution_count": null,
   "source": [
    "x = [1, 2, 3, 4, 5]\n",
    "y = x.copy()\n",
    "y.append(6)\n",
    "print(x)"
   ],
   "id": "941294090a423aeb"
  },
  {
   "metadata": {},
   "cell_type": "code",
   "outputs": [],
   "execution_count": null,
   "source": [
    "x = [1, 2, 3, 4, 5]\n",
    "y = x\n",
    "y.append(6)\n",
    "print(x)"
   ],
   "id": "ac49a1db9078cf87"
  },
  {
   "metadata": {},
   "cell_type": "markdown",
   "source": [
    "## If-Else\n",
    "\n",
    "If-Else in Python is very easy to use. You can use it like this:"
   ],
   "id": "6e78476af9562e40"
  },
  {
   "metadata": {
    "ExecuteTime": {
     "end_time": "2025-01-15T05:01:00.489958Z",
     "start_time": "2025-01-15T05:01:00.488243Z"
    }
   },
   "cell_type": "code",
   "source": [
    "x = 5\n",
    "\n",
    "if x > 5:\n",
    "    print('x is greater than 5')\n",
    "else:\n",
    "    print('x is no greater than 5')"
   ],
   "id": "80a4e5fc4b141496",
   "outputs": [
    {
     "name": "stdout",
     "output_type": "stream",
     "text": [
      "x is no greater than 5\n"
     ]
    }
   ],
   "execution_count": 138
  },
  {
   "metadata": {
    "ExecuteTime": {
     "end_time": "2025-01-15T05:01:25.201125Z",
     "start_time": "2025-01-15T05:01:25.199226Z"
    }
   },
   "cell_type": "code",
   "source": [
    "x = 5\n",
    "\n",
    "#elif\n",
    "if x > 5:\n",
    "    print('x is greater than 5')\n",
    "elif x == 5:\n",
    "    print('x is equal to 5')\n",
    "else:\n",
    "    print('x is less than 5')"
   ],
   "id": "5bf49730217b3671",
   "outputs": [
    {
     "name": "stdout",
     "output_type": "stream",
     "text": [
      "x is equal to 5\n"
     ]
    }
   ],
   "execution_count": 139
  },
  {
   "metadata": {},
   "cell_type": "markdown",
   "source": [
    "## Loops\n",
    "\n",
    "In R, you can use a for loop like this:\n",
    "```R\n",
    "for (i in 1:5) {\n",
    "    print(i)\n",
    "}\n",
    "```\n",
    "\n",
    "In Python, it is very similar:"
   ],
   "id": "7cfac9f442b38f39"
  },
  {
   "metadata": {
    "ExecuteTime": {
     "end_time": "2025-01-12T05:00:35.970541Z",
     "start_time": "2025-01-12T05:00:35.968593Z"
    }
   },
   "cell_type": "code",
   "source": [
    "for i in range(1, 6):\n",
    "    print(i)"
   ],
   "id": "f3953575589a03c5",
   "outputs": [
    {
     "name": "stdout",
     "output_type": "stream",
     "text": [
      "1\n",
      "2\n",
      "3\n",
      "4\n",
      "5\n"
     ]
    }
   ],
   "execution_count": 34
  },
  {
   "metadata": {},
   "cell_type": "markdown",
   "source": [
    "In R, you define a while loop like this:\n",
    "```R\n",
    "i <- 1\n",
    "while (i <= 5) {\n",
    "    print(i)\n",
    "    i <- i + 1\n",
    "}\n",
    "```\n",
    "In Python, it's like:"
   ],
   "id": "9d8078cce04b0f3d"
  },
  {
   "metadata": {
    "ExecuteTime": {
     "end_time": "2025-01-12T05:01:28.955876Z",
     "start_time": "2025-01-12T05:01:28.953410Z"
    }
   },
   "cell_type": "code",
   "source": [
    "i = 1\n",
    "while i <= 5:\n",
    "    print(i)\n",
    "    i += 1"
   ],
   "id": "19e4d2ae52bc91ee",
   "outputs": [
    {
     "name": "stdout",
     "output_type": "stream",
     "text": [
      "1\n",
      "2\n",
      "3\n",
      "4\n",
      "5\n"
     ]
    }
   ],
   "execution_count": 35
  },
  {
   "metadata": {},
   "cell_type": "markdown",
   "source": "A loop can be used very flexibly in Python. For example, you can use a loop to create a list like this:",
   "id": "4e81a9284c8cbf94"
  },
  {
   "metadata": {
    "ExecuteTime": {
     "end_time": "2025-01-15T04:58:21.220524Z",
     "start_time": "2025-01-15T04:58:21.215813Z"
    }
   },
   "cell_type": "code",
   "source": [
    "x = [i for i in range(1, 6)]\n",
    "x"
   ],
   "id": "b043608182185871",
   "outputs": [
    {
     "data": {
      "text/plain": [
       "[1, 2, 3, 4, 5]"
      ]
     },
     "execution_count": 134,
     "metadata": {},
     "output_type": "execute_result"
    }
   ],
   "execution_count": 134
  },
  {
   "metadata": {},
   "cell_type": "markdown",
   "source": "And you can also use a loop to create a dictionary like this:",
   "id": "7a177c3effa526c0"
  },
  {
   "metadata": {
    "ExecuteTime": {
     "end_time": "2025-01-15T04:58:36.540398Z",
     "start_time": "2025-01-15T04:58:36.537933Z"
    }
   },
   "cell_type": "code",
   "source": [
    "x = {i: i**2 for i in range(1, 6)}\n",
    "x"
   ],
   "id": "111743a515fb47a2",
   "outputs": [
    {
     "data": {
      "text/plain": [
       "{1: 1, 2: 4, 3: 9, 4: 16, 5: 25}"
      ]
     },
     "execution_count": 135,
     "metadata": {},
     "output_type": "execute_result"
    }
   ],
   "execution_count": 135
  },
  {
   "metadata": {},
   "cell_type": "markdown",
   "source": "You can also use a loop to filter a list:",
   "id": "c02b184358cdab0a"
  },
  {
   "metadata": {
    "ExecuteTime": {
     "end_time": "2025-01-15T04:59:18.930062Z",
     "start_time": "2025-01-15T04:59:18.927787Z"
    }
   },
   "cell_type": "code",
   "source": [
    "x = [1, 2, 3, 4, 5, 6, 7, 8, 9]\n",
    "y = [i for i in x if i % 2 == 0]\n",
    "y"
   ],
   "id": "2af80191ba40b333",
   "outputs": [
    {
     "data": {
      "text/plain": [
       "[2, 4, 6, 8]"
      ]
     },
     "execution_count": 136,
     "metadata": {},
     "output_type": "execute_result"
    }
   ],
   "execution_count": 136
  },
  {
   "metadata": {},
   "cell_type": "markdown",
   "source": [
    "## Functions\n",
    "\n",
    "In R, you can define a function like this:\n",
    "```R\n",
    "add <- function(x, y) {\n",
    "    return(x + y)\n",
    "    }\n",
    "```\n",
    "\n",
    "In Python, you can define a function like this:"
   ],
   "id": "b8775be019a53138"
  },
  {
   "metadata": {
    "ExecuteTime": {
     "end_time": "2025-01-12T02:51:53.264294Z",
     "start_time": "2025-01-12T02:51:53.257619Z"
    }
   },
   "cell_type": "code",
   "source": [
    "def add(x, y):\n",
    "    \"\"\"\n",
    "    This function returns the sum of x and y\n",
    "    \n",
    "    :param x: first number\n",
    "    :param y: second number\n",
    "    :return: the sum of x and y\n",
    "    \"\"\"\n",
    "    return x + y\n",
    "add(3, 4)"
   ],
   "id": "8224fe999ba4b90f",
   "outputs": [
    {
     "data": {
      "text/plain": [
       "7"
      ]
     },
     "execution_count": 27,
     "metadata": {},
     "output_type": "execute_result"
    }
   ],
   "execution_count": 27
  },
  {
   "metadata": {},
   "cell_type": "markdown",
   "source": "Python use spaces to define the scope of a function, while R uses curly braces. So, be careful with the indentation in Python. For example, the following function won't work in Python because you are not using the correct indentation:",
   "id": "fda8ddbf6c7f9bf8"
  },
  {
   "metadata": {
    "ExecuteTime": {
     "end_time": "2025-01-12T02:53:44.917812Z",
     "start_time": "2025-01-12T02:53:44.915645Z"
    }
   },
   "cell_type": "code",
   "source": [
    "def add(x, y):\n",
    "      x+1\n",
    "    return x + y\n",
    "\n",
    "add(3, 4)"
   ],
   "id": "b1651539b2473a60",
   "outputs": [
    {
     "ename": "IndentationError",
     "evalue": "unindent does not match any outer indentation level (<string>, line 3)",
     "output_type": "error",
     "traceback": [
      "\u001B[0;36m  File \u001B[0;32m<string>:3\u001B[0;36m\u001B[0m\n\u001B[0;31m    return x + y\u001B[0m\n\u001B[0m                ^\u001B[0m\n\u001B[0;31mIndentationError\u001B[0m\u001B[0;31m:\u001B[0m unindent does not match any outer indentation level\n"
     ]
    }
   ],
   "execution_count": 30
  },
  {
   "metadata": {},
   "cell_type": "markdown",
   "source": [
    "## Import Libraries\n",
    "\n",
    "In R, you import libraries like this:\n",
    "```R\n",
    "library(tidyverse)\n",
    "```\n",
    "But in Python, you import libraries like this:"
   ],
   "id": "37977e3a152c88ef"
  },
  {
   "metadata": {},
   "cell_type": "code",
   "outputs": [],
   "execution_count": null,
   "source": [
    "import pandas as pd\n",
    "pd.__version__"
   ],
   "id": "563bb929cd2316dd"
  },
  {
   "metadata": {},
   "cell_type": "markdown",
   "source": [
    "## Numpy Arrays\n",
    "\n",
    "We have talked about the basic arrays in Python before, now let me show you a more common way that people use to create arrays in Python. You can use `numpy` library to create arrays like this:"
   ],
   "id": "31d259d09e900b1f"
  },
  {
   "metadata": {
    "ExecuteTime": {
     "end_time": "2025-01-12T02:24:33.000942Z",
     "start_time": "2025-01-12T02:24:32.996011Z"
    }
   },
   "cell_type": "code",
   "source": [
    "import numpy as np\n",
    "x = np.array([[1, 2, 3], [4, 5, 6], [7, 8, 9]])\n",
    "x"
   ],
   "id": "12b40eb25b86fb46",
   "outputs": [
    {
     "data": {
      "text/plain": [
       "array([[1, 2, 3],\n",
       "       [4, 5, 6],\n",
       "       [7, 8, 9]])"
      ]
     },
     "execution_count": 4,
     "metadata": {},
     "output_type": "execute_result"
    }
   ],
   "execution_count": 4
  },
  {
   "metadata": {},
   "cell_type": "markdown",
   "source": "`numpy` is very widly used in Python for numerical operations. It is very similar to R's `matrix` and `array` functions. You can see it in a lot of operations in Python. For example, when you want to perform a matrix multiplication, you can use `np.dot` function like this:",
   "id": "67e5b940530c4628"
  },
  {
   "metadata": {
    "ExecuteTime": {
     "end_time": "2025-01-12T02:34:19.625281Z",
     "start_time": "2025-01-12T02:34:19.622293Z"
    }
   },
   "cell_type": "code",
   "source": [
    "x = np.array([[13, 21, 3], [24, 30, 16], [7, 2, 1]])\n",
    "y = np.array([[11, 22, 33], [44, 55, 66], [77, 88, 99]])\n",
    "\n",
    "np.dot(x, y)"
   ],
   "id": "7d800ac73bb5edd7",
   "outputs": [
    {
     "data": {
      "text/plain": [
       "array([[1298, 1705, 2112],\n",
       "       [2816, 3586, 4356],\n",
       "       [ 242,  352,  462]])"
      ]
     },
     "execution_count": 11,
     "metadata": {},
     "output_type": "execute_result"
    }
   ],
   "execution_count": 11
  },
  {
   "metadata": {},
   "cell_type": "markdown",
   "source": "And you can also use `np.transpose` function to transpose a matrix like this:",
   "id": "a0f60f1ad36475f0"
  },
  {
   "metadata": {
    "ExecuteTime": {
     "end_time": "2025-01-12T02:34:20.796623Z",
     "start_time": "2025-01-12T02:34:20.793996Z"
    }
   },
   "cell_type": "code",
   "source": "np.transpose(x)",
   "id": "a37637ef2713c3b1",
   "outputs": [
    {
     "data": {
      "text/plain": [
       "array([[13, 24,  7],\n",
       "       [21, 30,  2],\n",
       "       [ 3, 16,  1]])"
      ]
     },
     "execution_count": 12,
     "metadata": {},
     "output_type": "execute_result"
    }
   ],
   "execution_count": 12
  },
  {
   "metadata": {},
   "cell_type": "markdown",
   "source": "You can also use `np.linalg.inv` function to get the inverse of a matrix:",
   "id": "fafb8dd54ede1ece"
  },
  {
   "metadata": {
    "ExecuteTime": {
     "end_time": "2025-01-12T02:34:21.793195Z",
     "start_time": "2025-01-12T02:34:21.790757Z"
    }
   },
   "cell_type": "code",
   "source": "np.linalg.inv(x)",
   "id": "cf354aa0ac974afa",
   "outputs": [
    {
     "data": {
      "text/plain": [
       "array([[-0.00149701, -0.01122754,  0.18413174],\n",
       "       [ 0.06586826, -0.00598802, -0.10179641],\n",
       "       [-0.12125749,  0.09056886, -0.08532934]])"
      ]
     },
     "execution_count": 13,
     "metadata": {},
     "output_type": "execute_result"
    }
   ],
   "execution_count": 13
  },
  {
   "metadata": {},
   "cell_type": "markdown",
   "source": "And you can use `np.linalg.det` function to get the determinant of a matrix like this:",
   "id": "155a5782213bef4f"
  },
  {
   "metadata": {
    "ExecuteTime": {
     "end_time": "2025-01-12T02:34:22.732101Z",
     "start_time": "2025-01-12T02:34:22.729575Z"
    }
   },
   "cell_type": "code",
   "source": "np.linalg.det(x)",
   "id": "cd11aef1be0209ae",
   "outputs": [
    {
     "data": {
      "text/plain": [
       "1335.9999999999995"
      ]
     },
     "execution_count": 14,
     "metadata": {},
     "output_type": "execute_result"
    }
   ],
   "execution_count": 14
  },
  {
   "metadata": {},
   "cell_type": "markdown",
   "source": [
    "## Data Frames\n",
    "\n",
    "In R, you can create a data frame like this:\n",
    "```R\n",
    "df <- data.frame(x = c(1, 2, 3), y = c(4, 5, 6))\n",
    "```\n",
    "But in Python, you can create a pandas DataFrame like this:"
   ],
   "id": "4f98a8bf8538f7e1"
  },
  {
   "metadata": {
    "ExecuteTime": {
     "end_time": "2025-01-12T02:35:39.649983Z",
     "start_time": "2025-01-12T02:35:39.639841Z"
    }
   },
   "cell_type": "code",
   "source": [
    "df = pd.DataFrame({'x': [1, 2, 3], 'y': [4, 5, 6]})\n",
    "df"
   ],
   "id": "3519d0c4c27e9ba4",
   "outputs": [
    {
     "data": {
      "text/plain": [
       "   x  y\n",
       "0  1  4\n",
       "1  2  5\n",
       "2  3  6"
      ],
      "text/html": [
       "<div>\n",
       "<style scoped>\n",
       "    .dataframe tbody tr th:only-of-type {\n",
       "        vertical-align: middle;\n",
       "    }\n",
       "\n",
       "    .dataframe tbody tr th {\n",
       "        vertical-align: top;\n",
       "    }\n",
       "\n",
       "    .dataframe thead th {\n",
       "        text-align: right;\n",
       "    }\n",
       "</style>\n",
       "<table border=\"1\" class=\"dataframe\">\n",
       "  <thead>\n",
       "    <tr style=\"text-align: right;\">\n",
       "      <th></th>\n",
       "      <th>x</th>\n",
       "      <th>y</th>\n",
       "    </tr>\n",
       "  </thead>\n",
       "  <tbody>\n",
       "    <tr>\n",
       "      <th>0</th>\n",
       "      <td>1</td>\n",
       "      <td>4</td>\n",
       "    </tr>\n",
       "    <tr>\n",
       "      <th>1</th>\n",
       "      <td>2</td>\n",
       "      <td>5</td>\n",
       "    </tr>\n",
       "    <tr>\n",
       "      <th>2</th>\n",
       "      <td>3</td>\n",
       "      <td>6</td>\n",
       "    </tr>\n",
       "  </tbody>\n",
       "</table>\n",
       "</div>"
      ]
     },
     "execution_count": 16,
     "metadata": {},
     "output_type": "execute_result"
    }
   ],
   "execution_count": 16
  },
  {
   "metadata": {},
   "cell_type": "markdown",
   "source": "Pandas is a very powerful library in Python for data manipulation. You can do a lot of operations on a DataFrame. For example, you can select a column like this:\n",
   "id": "7d8840a684a70312"
  },
  {
   "metadata": {
    "ExecuteTime": {
     "end_time": "2025-01-12T02:44:49.636201Z",
     "start_time": "2025-01-12T02:44:49.627937Z"
    }
   },
   "cell_type": "code",
   "source": "df['x']",
   "id": "4728c5fd8d4ba720",
   "outputs": [
    {
     "data": {
      "text/plain": [
       "0    1\n",
       "1    2\n",
       "2    3\n",
       "Name: x, dtype: int64"
      ]
     },
     "execution_count": 19,
     "metadata": {},
     "output_type": "execute_result"
    }
   ],
   "execution_count": 19
  },
  {
   "metadata": {},
   "cell_type": "markdown",
   "source": "You can select multiple columns with:",
   "id": "62385a08d6242ac9"
  },
  {
   "metadata": {
    "ExecuteTime": {
     "end_time": "2025-01-12T02:45:09.839926Z",
     "start_time": "2025-01-12T02:45:09.833239Z"
    }
   },
   "cell_type": "code",
   "source": "df[['x', 'y']]",
   "id": "65bfd38c4ee4d403",
   "outputs": [
    {
     "data": {
      "text/plain": [
       "   x  y\n",
       "0  1  4\n",
       "1  2  5\n",
       "2  3  6"
      ],
      "text/html": [
       "<div>\n",
       "<style scoped>\n",
       "    .dataframe tbody tr th:only-of-type {\n",
       "        vertical-align: middle;\n",
       "    }\n",
       "\n",
       "    .dataframe tbody tr th {\n",
       "        vertical-align: top;\n",
       "    }\n",
       "\n",
       "    .dataframe thead th {\n",
       "        text-align: right;\n",
       "    }\n",
       "</style>\n",
       "<table border=\"1\" class=\"dataframe\">\n",
       "  <thead>\n",
       "    <tr style=\"text-align: right;\">\n",
       "      <th></th>\n",
       "      <th>x</th>\n",
       "      <th>y</th>\n",
       "    </tr>\n",
       "  </thead>\n",
       "  <tbody>\n",
       "    <tr>\n",
       "      <th>0</th>\n",
       "      <td>1</td>\n",
       "      <td>4</td>\n",
       "    </tr>\n",
       "    <tr>\n",
       "      <th>1</th>\n",
       "      <td>2</td>\n",
       "      <td>5</td>\n",
       "    </tr>\n",
       "    <tr>\n",
       "      <th>2</th>\n",
       "      <td>3</td>\n",
       "      <td>6</td>\n",
       "    </tr>\n",
       "  </tbody>\n",
       "</table>\n",
       "</div>"
      ]
     },
     "execution_count": 20,
     "metadata": {},
     "output_type": "execute_result"
    }
   ],
   "execution_count": 20
  },
  {
   "metadata": {},
   "cell_type": "markdown",
   "source": "You can select a row like this:",
   "id": "efd12aeeb779d9e5"
  },
  {
   "metadata": {
    "ExecuteTime": {
     "end_time": "2025-01-12T02:45:37.806856Z",
     "start_time": "2025-01-12T02:45:37.803843Z"
    }
   },
   "cell_type": "code",
   "source": "df.iloc[0]",
   "id": "a147e4441222613e",
   "outputs": [
    {
     "data": {
      "text/plain": [
       "x    1\n",
       "y    4\n",
       "Name: 0, dtype: int64"
      ]
     },
     "execution_count": 21,
     "metadata": {},
     "output_type": "execute_result"
    }
   ],
   "execution_count": 21
  },
  {
   "metadata": {},
   "cell_type": "markdown",
   "source": "You can also select a cell with:",
   "id": "d81431dd993d5b3"
  },
  {
   "metadata": {
    "ExecuteTime": {
     "end_time": "2025-01-12T02:45:58.640737Z",
     "start_time": "2025-01-12T02:45:58.638462Z"
    }
   },
   "cell_type": "code",
   "source": "df['x'][0]",
   "id": "105f5c418948a79e",
   "outputs": [
    {
     "data": {
      "text/plain": [
       "1"
      ]
     },
     "execution_count": 22,
     "metadata": {},
     "output_type": "execute_result"
    }
   ],
   "execution_count": 22
  },
  {
   "metadata": {},
   "cell_type": "markdown",
   "source": "You can select a subset of the DataFrame like this:",
   "id": "5b5823695a170de4"
  },
  {
   "metadata": {
    "ExecuteTime": {
     "end_time": "2025-01-12T02:46:14.570028Z",
     "start_time": "2025-01-12T02:46:14.565544Z"
    }
   },
   "cell_type": "code",
   "source": "df.iloc[0:2]",
   "id": "3e7621319c728e87",
   "outputs": [
    {
     "data": {
      "text/plain": [
       "   x  y\n",
       "0  1  4\n",
       "1  2  5"
      ],
      "text/html": [
       "<div>\n",
       "<style scoped>\n",
       "    .dataframe tbody tr th:only-of-type {\n",
       "        vertical-align: middle;\n",
       "    }\n",
       "\n",
       "    .dataframe tbody tr th {\n",
       "        vertical-align: top;\n",
       "    }\n",
       "\n",
       "    .dataframe thead th {\n",
       "        text-align: right;\n",
       "    }\n",
       "</style>\n",
       "<table border=\"1\" class=\"dataframe\">\n",
       "  <thead>\n",
       "    <tr style=\"text-align: right;\">\n",
       "      <th></th>\n",
       "      <th>x</th>\n",
       "      <th>y</th>\n",
       "    </tr>\n",
       "  </thead>\n",
       "  <tbody>\n",
       "    <tr>\n",
       "      <th>0</th>\n",
       "      <td>1</td>\n",
       "      <td>4</td>\n",
       "    </tr>\n",
       "    <tr>\n",
       "      <th>1</th>\n",
       "      <td>2</td>\n",
       "      <td>5</td>\n",
       "    </tr>\n",
       "  </tbody>\n",
       "</table>\n",
       "</div>"
      ]
     },
     "execution_count": 23,
     "metadata": {},
     "output_type": "execute_result"
    }
   ],
   "execution_count": 23
  },
  {
   "metadata": {},
   "cell_type": "markdown",
   "source": "And more interestingly, you can filter the DataFrame like this:",
   "id": "6c9697e20c9910f7"
  },
  {
   "metadata": {
    "ExecuteTime": {
     "end_time": "2025-01-12T02:47:25.103158Z",
     "start_time": "2025-01-12T02:47:25.099868Z"
    }
   },
   "cell_type": "code",
   "source": "df[df['x'] > 1]",
   "id": "a22ce378f634cafa",
   "outputs": [
    {
     "data": {
      "text/plain": [
       "   x  y\n",
       "1  2  5\n",
       "2  3  6"
      ],
      "text/html": [
       "<div>\n",
       "<style scoped>\n",
       "    .dataframe tbody tr th:only-of-type {\n",
       "        vertical-align: middle;\n",
       "    }\n",
       "\n",
       "    .dataframe tbody tr th {\n",
       "        vertical-align: top;\n",
       "    }\n",
       "\n",
       "    .dataframe thead th {\n",
       "        text-align: right;\n",
       "    }\n",
       "</style>\n",
       "<table border=\"1\" class=\"dataframe\">\n",
       "  <thead>\n",
       "    <tr style=\"text-align: right;\">\n",
       "      <th></th>\n",
       "      <th>x</th>\n",
       "      <th>y</th>\n",
       "    </tr>\n",
       "  </thead>\n",
       "  <tbody>\n",
       "    <tr>\n",
       "      <th>1</th>\n",
       "      <td>2</td>\n",
       "      <td>5</td>\n",
       "    </tr>\n",
       "    <tr>\n",
       "      <th>2</th>\n",
       "      <td>3</td>\n",
       "      <td>6</td>\n",
       "    </tr>\n",
       "  </tbody>\n",
       "</table>\n",
       "</div>"
      ]
     },
     "execution_count": 24,
     "metadata": {},
     "output_type": "execute_result"
    }
   ],
   "execution_count": 24
  },
  {
   "metadata": {},
   "cell_type": "markdown",
   "source": "And even use sql-like queries like this:",
   "id": "13ca05000f841fb6"
  },
  {
   "metadata": {
    "ExecuteTime": {
     "end_time": "2025-01-12T02:48:07.548325Z",
     "start_time": "2025-01-12T02:48:07.543395Z"
    }
   },
   "cell_type": "code",
   "source": "df.query('x > 1 and y < 6')",
   "id": "b237d065369318b6",
   "outputs": [
    {
     "data": {
      "text/plain": [
       "   x  y\n",
       "1  2  5"
      ],
      "text/html": [
       "<div>\n",
       "<style scoped>\n",
       "    .dataframe tbody tr th:only-of-type {\n",
       "        vertical-align: middle;\n",
       "    }\n",
       "\n",
       "    .dataframe tbody tr th {\n",
       "        vertical-align: top;\n",
       "    }\n",
       "\n",
       "    .dataframe thead th {\n",
       "        text-align: right;\n",
       "    }\n",
       "</style>\n",
       "<table border=\"1\" class=\"dataframe\">\n",
       "  <thead>\n",
       "    <tr style=\"text-align: right;\">\n",
       "      <th></th>\n",
       "      <th>x</th>\n",
       "      <th>y</th>\n",
       "    </tr>\n",
       "  </thead>\n",
       "  <tbody>\n",
       "    <tr>\n",
       "      <th>1</th>\n",
       "      <td>2</td>\n",
       "      <td>5</td>\n",
       "    </tr>\n",
       "  </tbody>\n",
       "</table>\n",
       "</div>"
      ]
     },
     "execution_count": 26,
     "metadata": {},
     "output_type": "execute_result"
    }
   ],
   "execution_count": 26
  },
  {
   "metadata": {},
   "cell_type": "markdown",
   "source": [
    "## Some Practice\n",
    "\n",
    "### Binary Search\n",
    "\n",
    "Binary search is a very common algorithm in computer science. You can implement it like this in R:\n",
    "```R\n",
    "binary_search <- function(arr, x) {\n",
    "    low <- 1\n",
    "    high <- length(arr)\n",
    "    \n",
    "    while (low <= high) {\n",
    "        mid <- (low + high) %/% 2\n",
    "        if (arr[mid] == x) {\n",
    "            return(mid)\n",
    "        } else if (arr[mid] < x) {\n",
    "            low <- mid + 1\n",
    "        } else {\n",
    "            high <- mid - 1\n",
    "        }\n",
    "    }\n",
    "    \n",
    "    return(-1)\n",
    "}\n",
    "```\n",
    "\n",
    "Well, this is how we do it in Python:"
   ],
   "id": "88adedd83f98dae8"
  },
  {
   "metadata": {
    "ExecuteTime": {
     "end_time": "2025-01-14T05:58:53.222761Z",
     "start_time": "2025-01-14T05:58:53.214963Z"
    }
   },
   "cell_type": "code",
   "source": [
    "def binary_search(arr, x):\n",
    "    \"\"\"\n",
    "    This function implements binary search algorithm\n",
    "    \n",
    "    :param arr: array that you want to search\n",
    "    :param x: the item that you want to search in the array\n",
    "    :return: the index of the item in the array, if not found, return -1\n",
    "    \"\"\"\n",
    "    low = 0\n",
    "    high = len(arr) - 1\n",
    "    \n",
    "    while low <= high:\n",
    "        mid = (low + high) // 2\n",
    "        if arr[mid] == x:\n",
    "            return mid\n",
    "        elif arr[mid] < x:\n",
    "            low = mid + 1\n",
    "        else:\n",
    "            high = mid - 1\n",
    "            \n",
    "    return -1\n",
    "\n",
    "arr = [1, 2, 3, 4, 5, 6, 7, 8, 9]\n",
    "binary_search(arr, 5)"
   ],
   "id": "dc83d0c417b7cb98",
   "outputs": [
    {
     "data": {
      "text/plain": [
       "4"
      ]
     },
     "execution_count": 53,
     "metadata": {},
     "output_type": "execute_result"
    }
   ],
   "execution_count": 53
  },
  {
   "metadata": {},
   "cell_type": "markdown",
   "source": [
    "### Two-Sum\n",
    "\n",
    "This is a question from [Leetcode 1. Two Sum](https://leetcode.com/problems/two-sum):\n",
    "\n",
    "Given an array of integers, return indices of the two numbers such that they add up to a specific target.\n",
    "\n",
    "Example 1:\n",
    "```\n",
    "Input: nums = [2, 7, 11, 15], target = 9\n",
    "Output: [0, 1]\n",
    "Explanation: Because nums[0] + nums[1] == 9, we return [0, 1].\n",
    "```\n",
    "\n",
    "Example 2:\n",
    "```\n",
    "Input: nums = [3,2,4], target = 6\n",
    "Output: [1,2]\n",
    "```\n",
    "\n",
    "Example 3:\n",
    "```\n",
    "Input: nums = [3,3], target = 6\n",
    "Output: [0,1]\n",
    "```\n"
   ],
   "id": "856e40dcaeaef962"
  },
  {
   "metadata": {
    "ExecuteTime": {
     "end_time": "2025-01-15T05:07:40.427896Z",
     "start_time": "2025-01-15T05:07:40.425036Z"
    }
   },
   "cell_type": "code",
   "source": [
    "def two_sum(nums, target):\n",
    "    \"\"\"\n",
    "    This function returns indices of the two numbers such that they add up to a specific target.\n",
    "    \n",
    "    :param nums: the list of integers\n",
    "    :param target: the target sum\n",
    "    :return: the indices of the two numbers\n",
    "    \"\"\"\n",
    "    dic = {}\n",
    "    for i, num in enumerate(nums):\n",
    "        if target - num in dic:\n",
    "            return [dic[target - num], i]\n",
    "        dic[num] = i\n",
    "    \n",
    "    return []\n",
    "\n",
    "two_sum([2, 7, 11, 15], 9)"
   ],
   "id": "f3e5e95e789079a7",
   "outputs": [
    {
     "data": {
      "text/plain": [
       "[0, 1]"
      ]
     },
     "execution_count": 142,
     "metadata": {},
     "output_type": "execute_result"
    }
   ],
   "execution_count": 142
  },
  {
   "metadata": {},
   "cell_type": "markdown",
   "source": [
    "### Pandas\n",
    "\n",
    "This is a question from [Leetcode 595. Big Countries](https://leetcode.com/problems/big-countries/):\n",
    "\n",
    "Find the number of countries that are big. A country is big if it has an area of bigger than 3000000 square km or a population of more than 25000000.\n",
    "\n",
    "Example:\n",
    "\n",
    "Input:\n",
    "| name         | continent | area    | population | gdp          |\n",
    "|--------------|-----------|---------|------------|--------------|\n",
    "| Afghanistan  | Asia      | 652230  | 25500100   | 20343000000  |\n",
    "| Albania      | Europe    | 28748   | 2831741    | 12960000000  |\n",
    "| Algeria      | Africa    | 2381741 | 37100000   | 188681000000 |\n",
    "| Andorra      | Europe    | 468     | 78115      | 3712000000   |\n",
    "| Angola       | Africa    | 1246700 | 20609294   | 100990000000 |\n",
    "\n",
    "Output:\n",
    "| name         | population | area    |\n",
    "|--------------|------------|---------|\n",
    "| Afghanistan  | 25500100   | 652230  |\n",
    "| Algeria      | 37100000   | 2381741 |"
   ],
   "id": "64342e77f2bdfc02"
  },
  {
   "metadata": {
    "ExecuteTime": {
     "end_time": "2025-01-14T06:17:10.144159Z",
     "start_time": "2025-01-14T06:17:10.136900Z"
    }
   },
   "cell_type": "code",
   "source": [
    "data = [\n",
    "    {\n",
    "        'name': 'Afghanistan',\n",
    "        'continent': 'Asia',\n",
    "        'area': 652230,\n",
    "        'population': 25500100,\n",
    "        'gdp': 20343000000\n",
    "    },\n",
    "    {\n",
    "        'name': 'Albania',\n",
    "        'continent': 'Europe',\n",
    "        'area': 28748,\n",
    "        'population': 2831741,\n",
    "        'gdp': 12960000000\n",
    "    },\n",
    "    {\n",
    "        'name': 'Algeria',\n",
    "        'continent': 'Africa',\n",
    "        'area': 2381741,\n",
    "        'population': 37100000,\n",
    "        'gdp': 188681000000\n",
    "    },\n",
    "    {\n",
    "        'name': 'Andorra',\n",
    "        'continent': 'Europe',\n",
    "        'area': 468,\n",
    "        'population': 78115,\n",
    "        'gdp': 3712000000\n",
    "    },\n",
    "    {\n",
    "        'name': 'Angola',\n",
    "        'continent': 'Africa',\n",
    "        'area': 1246700,\n",
    "        'population': 20609294,\n",
    "        'gdp': 100990000000\n",
    "    }\n",
    "]\n",
    "\n",
    "df = pd.DataFrame(data)\n",
    "df"
   ],
   "id": "1f19a5ecaa2b08f1",
   "outputs": [
    {
     "data": {
      "text/plain": [
       "          name continent     area  population           gdp\n",
       "0  Afghanistan      Asia   652230    25500100   20343000000\n",
       "1      Albania    Europe    28748     2831741   12960000000\n",
       "2      Algeria    Africa  2381741    37100000  188681000000\n",
       "3      Andorra    Europe      468       78115    3712000000\n",
       "4       Angola    Africa  1246700    20609294  100990000000"
      ],
      "text/html": [
       "<div>\n",
       "<style scoped>\n",
       "    .dataframe tbody tr th:only-of-type {\n",
       "        vertical-align: middle;\n",
       "    }\n",
       "\n",
       "    .dataframe tbody tr th {\n",
       "        vertical-align: top;\n",
       "    }\n",
       "\n",
       "    .dataframe thead th {\n",
       "        text-align: right;\n",
       "    }\n",
       "</style>\n",
       "<table border=\"1\" class=\"dataframe\">\n",
       "  <thead>\n",
       "    <tr style=\"text-align: right;\">\n",
       "      <th></th>\n",
       "      <th>name</th>\n",
       "      <th>continent</th>\n",
       "      <th>area</th>\n",
       "      <th>population</th>\n",
       "      <th>gdp</th>\n",
       "    </tr>\n",
       "  </thead>\n",
       "  <tbody>\n",
       "    <tr>\n",
       "      <th>0</th>\n",
       "      <td>Afghanistan</td>\n",
       "      <td>Asia</td>\n",
       "      <td>652230</td>\n",
       "      <td>25500100</td>\n",
       "      <td>20343000000</td>\n",
       "    </tr>\n",
       "    <tr>\n",
       "      <th>1</th>\n",
       "      <td>Albania</td>\n",
       "      <td>Europe</td>\n",
       "      <td>28748</td>\n",
       "      <td>2831741</td>\n",
       "      <td>12960000000</td>\n",
       "    </tr>\n",
       "    <tr>\n",
       "      <th>2</th>\n",
       "      <td>Algeria</td>\n",
       "      <td>Africa</td>\n",
       "      <td>2381741</td>\n",
       "      <td>37100000</td>\n",
       "      <td>188681000000</td>\n",
       "    </tr>\n",
       "    <tr>\n",
       "      <th>3</th>\n",
       "      <td>Andorra</td>\n",
       "      <td>Europe</td>\n",
       "      <td>468</td>\n",
       "      <td>78115</td>\n",
       "      <td>3712000000</td>\n",
       "    </tr>\n",
       "    <tr>\n",
       "      <th>4</th>\n",
       "      <td>Angola</td>\n",
       "      <td>Africa</td>\n",
       "      <td>1246700</td>\n",
       "      <td>20609294</td>\n",
       "      <td>100990000000</td>\n",
       "    </tr>\n",
       "  </tbody>\n",
       "</table>\n",
       "</div>"
      ]
     },
     "execution_count": 55,
     "metadata": {},
     "output_type": "execute_result"
    }
   ],
   "execution_count": 55
  },
  {
   "metadata": {
    "ExecuteTime": {
     "end_time": "2025-01-14T06:17:12.781222Z",
     "start_time": "2025-01-14T06:17:12.767788Z"
    }
   },
   "cell_type": "code",
   "source": [
    "# Solution 1\n",
    "def big_countries_solution_1(world: pd.DataFrame):\n",
    "    \"\"\"\n",
    "    This function returns the countries that are big. A country is big if it has an area of bigger than 3000000 square km or a population of more than 25000000.\n",
    "    \n",
    "    :param world: the DataFrame that contains the information of the countries \n",
    "    :return: data frame that contains the name, population, and area of the big countries\n",
    "    \"\"\"\n",
    "    return world.query(\"area >= 3000000 or population >= 25000000\")[[\"name\", \"population\", \"area\"]]\n",
    "\n",
    "big_countries_solution_1(df)"
   ],
   "id": "2574614be9698542",
   "outputs": [
    {
     "data": {
      "text/plain": [
       "          name  population     area\n",
       "0  Afghanistan    25500100   652230\n",
       "2      Algeria    37100000  2381741"
      ],
      "text/html": [
       "<div>\n",
       "<style scoped>\n",
       "    .dataframe tbody tr th:only-of-type {\n",
       "        vertical-align: middle;\n",
       "    }\n",
       "\n",
       "    .dataframe tbody tr th {\n",
       "        vertical-align: top;\n",
       "    }\n",
       "\n",
       "    .dataframe thead th {\n",
       "        text-align: right;\n",
       "    }\n",
       "</style>\n",
       "<table border=\"1\" class=\"dataframe\">\n",
       "  <thead>\n",
       "    <tr style=\"text-align: right;\">\n",
       "      <th></th>\n",
       "      <th>name</th>\n",
       "      <th>population</th>\n",
       "      <th>area</th>\n",
       "    </tr>\n",
       "  </thead>\n",
       "  <tbody>\n",
       "    <tr>\n",
       "      <th>0</th>\n",
       "      <td>Afghanistan</td>\n",
       "      <td>25500100</td>\n",
       "      <td>652230</td>\n",
       "    </tr>\n",
       "    <tr>\n",
       "      <th>2</th>\n",
       "      <td>Algeria</td>\n",
       "      <td>37100000</td>\n",
       "      <td>2381741</td>\n",
       "    </tr>\n",
       "  </tbody>\n",
       "</table>\n",
       "</div>"
      ]
     },
     "execution_count": 56,
     "metadata": {},
     "output_type": "execute_result"
    }
   ],
   "execution_count": 56
  },
  {
   "metadata": {
    "ExecuteTime": {
     "end_time": "2025-01-14T06:18:02.064269Z",
     "start_time": "2025-01-14T06:18:02.059198Z"
    }
   },
   "cell_type": "code",
   "source": [
    "# Solution 2\n",
    "def big_countries_solution_2(world: pd.DataFrame) -> pd.DataFrame:\n",
    "    \"\"\"\n",
    "    This function returns the countries that are big. A country is big if it has an area of bigger than 3000000 square km or a population of more than 25000000.\n",
    "    \n",
    "    :param world: the DataFrame that contains the information of the countries \n",
    "    :return: data frame that contains the name, population, and area of the big countries\n",
    "    \"\"\"\n",
    "    world = world[(world['population'] >= 25000000) | (world['area'] >= 3000000)]\n",
    "    result = world[['name', 'population', 'area']]\n",
    "    return result\n",
    "\n",
    "big_countries_solution_2(df)"
   ],
   "id": "a3457b171572b6f8",
   "outputs": [
    {
     "data": {
      "text/plain": [
       "          name  population     area\n",
       "0  Afghanistan    25500100   652230\n",
       "2      Algeria    37100000  2381741"
      ],
      "text/html": [
       "<div>\n",
       "<style scoped>\n",
       "    .dataframe tbody tr th:only-of-type {\n",
       "        vertical-align: middle;\n",
       "    }\n",
       "\n",
       "    .dataframe tbody tr th {\n",
       "        vertical-align: top;\n",
       "    }\n",
       "\n",
       "    .dataframe thead th {\n",
       "        text-align: right;\n",
       "    }\n",
       "</style>\n",
       "<table border=\"1\" class=\"dataframe\">\n",
       "  <thead>\n",
       "    <tr style=\"text-align: right;\">\n",
       "      <th></th>\n",
       "      <th>name</th>\n",
       "      <th>population</th>\n",
       "      <th>area</th>\n",
       "    </tr>\n",
       "  </thead>\n",
       "  <tbody>\n",
       "    <tr>\n",
       "      <th>0</th>\n",
       "      <td>Afghanistan</td>\n",
       "      <td>25500100</td>\n",
       "      <td>652230</td>\n",
       "    </tr>\n",
       "    <tr>\n",
       "      <th>2</th>\n",
       "      <td>Algeria</td>\n",
       "      <td>37100000</td>\n",
       "      <td>2381741</td>\n",
       "    </tr>\n",
       "  </tbody>\n",
       "</table>\n",
       "</div>"
      ]
     },
     "execution_count": 57,
     "metadata": {},
     "output_type": "execute_result"
    }
   ],
   "execution_count": 57
  },
  {
   "metadata": {},
   "cell_type": "markdown",
   "source": "What did you notice from the running time? Why?",
   "id": "c36ffe33e77dbc38"
  },
  {
   "metadata": {
    "ExecuteTime": {
     "end_time": "2025-01-14T06:18:22.552874Z",
     "start_time": "2025-01-14T06:18:22.548528Z"
    }
   },
   "cell_type": "code",
   "source": [
    "import time\n",
    "\n",
    "start = time.time()\n",
    "big_countries_solution_1(df)\n",
    "print('Solution 1:', time.time() - start)\n",
    "\n",
    "start = time.time()\n",
    "big_countries_solution_2(df)\n",
    "print('Solution 2:', time.time() - start)"
   ],
   "id": "f7af773e625352a2",
   "outputs": [
    {
     "name": "stdout",
     "output_type": "stream",
     "text": [
      "Solution 1: 0.0012960433959960938\n",
      "Solution 2: 0.0005402565002441406\n"
     ]
    }
   ],
   "execution_count": 58
  },
  {
   "metadata": {},
   "cell_type": "code",
   "outputs": [],
   "execution_count": null,
   "source": "",
   "id": "f535b97ba2e9b3cd"
  }
 ],
 "metadata": {
  "kernelspec": {
   "display_name": "Python 3",
   "language": "python",
   "name": "python3"
  },
  "language_info": {
   "codemirror_mode": {
    "name": "ipython",
    "version": 2
   },
   "file_extension": ".py",
   "mimetype": "text/x-python",
   "name": "python",
   "nbconvert_exporter": "python",
   "pygments_lexer": "ipython2",
   "version": "2.7.6"
  }
 },
 "nbformat": 4,
 "nbformat_minor": 5
}
