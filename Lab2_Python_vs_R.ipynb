{
 "cells": [
  {
   "metadata": {},
   "cell_type": "markdown",
   "source": [
    "# Lab 2 Transition to Python from R\n",
    "\n",
    "In this lab, you will see the major differences between R and Python. After this lab, you are expected to perform these basic operations in Python: \n",
    "\n",
    "1. [Import libraries](#Import-Libraries)\n",
    "2. [Declare variables](#Declare-Variables)\n",
    "3. [Data types](#Data-Types)\n",
    "4. [Loops](#Loops)\n",
    "5. [Functions](#Functions)\n",
    "6. [Classes](#Classes)\n",
    "7. [Numpy Arrays](#Numpy-Arrays)\n",
    "8. [Data Frames](#Data-Frames)\n",
    "9. [Some practice](#Some-Practice)\n",
    "    - [Binary Search](#Binary-Search)\n",
    "    - [Pandas](#Pandas)"
   ],
   "id": "17a9345fd5b2479c"
  },
  {
   "metadata": {},
   "cell_type": "markdown",
   "source": [
    "## Import Libraries\n",
    "\n",
    "In R, you import libraries like this:\n",
    "```R\n",
    "library(tidyverse)\n",
    "```\n",
    "But in Python, you import libraries like this:"
   ],
   "id": "a265b486fd054f37"
  },
  {
   "metadata": {
    "ExecuteTime": {
     "end_time": "2025-01-11T21:39:24.835777Z",
     "start_time": "2025-01-11T21:39:19.866672Z"
    }
   },
   "cell_type": "code",
   "source": [
    "import pandas as pd\n",
    "pd.__version__"
   ],
   "id": "a3752af32728c33",
   "outputs": [
    {
     "data": {
      "text/plain": [
       "'2.2.2'"
      ]
     },
     "execution_count": 2,
     "metadata": {},
     "output_type": "execute_result"
    }
   ],
   "execution_count": 2
  },
  {
   "metadata": {},
   "cell_type": "markdown",
   "source": [
    "## Declare Variables\n",
    "\n",
    "In R, you can declare a variable like this: \n",
    "```R\n",
    "x <- 5\n",
    "```\n",
    "But in Python, you declare a variable like this:"
   ],
   "id": "d76ba16f5d4d1ea0"
  },
  {
   "metadata": {
    "ExecuteTime": {
     "end_time": "2025-01-11T21:37:52.877900Z",
     "start_time": "2025-01-11T21:37:52.873554Z"
    }
   },
   "cell_type": "code",
   "source": [
    "x = 5\n",
    "x"
   ],
   "id": "222ee3c95f0d7118",
   "outputs": [
    {
     "data": {
      "text/plain": [
       "5"
      ]
     },
     "execution_count": 1,
     "metadata": {},
     "output_type": "execute_result"
    }
   ],
   "execution_count": 1
  },
  {
   "metadata": {},
   "cell_type": "markdown",
   "source": [
    "## Data Types\n",
    "\n",
    "In Python, you will find those data structures very useful: list, tuple, set, dictionary (those are all built-in data types in Python, we will talk about useful libraries later).\n",
    "\n",
    "A list can be declared like this:"
   ],
   "id": "97f6091c8703af48"
  },
  {
   "metadata": {
    "ExecuteTime": {
     "end_time": "2025-01-14T06:34:23.144062Z",
     "start_time": "2025-01-14T06:34:23.141155Z"
    }
   },
   "cell_type": "code",
   "source": [
    "x = [1, 2, 3, 4, 5]\n",
    "type(x)"
   ],
   "id": "df764141dff44207",
   "outputs": [
    {
     "data": {
      "text/plain": [
       "list"
      ]
     },
     "execution_count": 60,
     "metadata": {},
     "output_type": "execute_result"
    }
   ],
   "execution_count": 60
  },
  {
   "metadata": {},
   "cell_type": "markdown",
   "source": "And please note that, the index in Python as well as the rest of the common programming languages starts from 0. So, if you want to access the first element in the list, you should use `x[0]` instead of `x[1]`.",
   "id": "59bb7aac5f3462cb"
  },
  {
   "metadata": {
    "ExecuteTime": {
     "end_time": "2025-01-14T06:34:25.126175Z",
     "start_time": "2025-01-14T06:34:25.123491Z"
    }
   },
   "cell_type": "code",
   "source": "x[0]",
   "id": "d1b0f89faee0b328",
   "outputs": [
    {
     "data": {
      "text/plain": [
       "1"
      ]
     },
     "execution_count": 61,
     "metadata": {},
     "output_type": "execute_result"
    }
   ],
   "execution_count": 61
  },
  {
   "metadata": {},
   "cell_type": "markdown",
   "source": "A tuple is something like a list, but it is immutable. Usually, a tuple is used when you want to make sure the data is not changed.",
   "id": "82a36610dbdb07fc"
  },
  {
   "metadata": {
    "ExecuteTime": {
     "end_time": "2025-01-14T05:08:09.810692Z",
     "start_time": "2025-01-14T05:08:09.801570Z"
    }
   },
   "cell_type": "code",
   "source": [
    "x = (1, 2, 3, 4, 5)\n",
    "x[1] = 3\n"
   ],
   "id": "57fdb00404bf99fa",
   "outputs": [
    {
     "ename": "TypeError",
     "evalue": "'tuple' object does not support item assignment",
     "output_type": "error",
     "traceback": [
      "\u001B[0;31m---------------------------------------------------------------------------\u001B[0m",
      "\u001B[0;31mTypeError\u001B[0m                                 Traceback (most recent call last)",
      "Cell \u001B[0;32mIn[39], line 2\u001B[0m\n\u001B[1;32m      1\u001B[0m x \u001B[38;5;241m=\u001B[39m (\u001B[38;5;241m1\u001B[39m, \u001B[38;5;241m2\u001B[39m, \u001B[38;5;241m3\u001B[39m, \u001B[38;5;241m4\u001B[39m, \u001B[38;5;241m5\u001B[39m)\n\u001B[0;32m----> 2\u001B[0m x[\u001B[38;5;241m1\u001B[39m] \u001B[38;5;241m=\u001B[39m \u001B[38;5;241m3\u001B[39m\n",
      "\u001B[0;31mTypeError\u001B[0m: 'tuple' object does not support item assignment"
     ]
    }
   ],
   "execution_count": 39
  },
  {
   "metadata": {},
   "cell_type": "markdown",
   "source": "Now, let's talk about set. A set is an unordered collection of items. Every element is unique (no duplicates) and must be immutable (which cannot be changed).",
   "id": "7e49f97b0be1351f"
  },
  {
   "metadata": {
    "ExecuteTime": {
     "end_time": "2025-01-14T05:09:20.608317Z",
     "start_time": "2025-01-14T05:09:20.606285Z"
    }
   },
   "cell_type": "code",
   "source": "x = {1, 2, 3, 4, 5}",
   "id": "8af193c08feb46ac",
   "outputs": [],
   "execution_count": 40
  },
  {
   "metadata": {
    "ExecuteTime": {
     "end_time": "2025-01-14T05:09:46.268428Z",
     "start_time": "2025-01-14T05:09:46.259017Z"
    }
   },
   "cell_type": "code",
   "source": "x[0] # unordered",
   "id": "712b1cd89ee5dfd6",
   "outputs": [
    {
     "ename": "TypeError",
     "evalue": "'set' object is not subscriptable",
     "output_type": "error",
     "traceback": [
      "\u001B[0;31m---------------------------------------------------------------------------\u001B[0m",
      "\u001B[0;31mTypeError\u001B[0m                                 Traceback (most recent call last)",
      "Cell \u001B[0;32mIn[41], line 1\u001B[0m\n\u001B[0;32m----> 1\u001B[0m x[\u001B[38;5;241m1\u001B[39m]\n",
      "\u001B[0;31mTypeError\u001B[0m: 'set' object is not subscriptable"
     ]
    }
   ],
   "execution_count": 41
  },
  {
   "metadata": {
    "ExecuteTime": {
     "end_time": "2025-01-14T05:12:06.706464Z",
     "start_time": "2025-01-14T05:12:06.703404Z"
    }
   },
   "cell_type": "code",
   "source": [
    "x = {1, 2, 3, 4, 5, 5}\n",
    "x # no duplicates"
   ],
   "id": "dba99977f05547bb",
   "outputs": [
    {
     "data": {
      "text/plain": [
       "{1, 2, 3, 4, 5}"
      ]
     },
     "execution_count": 50,
     "metadata": {},
     "output_type": "execute_result"
    }
   ],
   "execution_count": 50
  },
  {
   "metadata": {
    "ExecuteTime": {
     "end_time": "2025-01-14T05:12:07.397864Z",
     "start_time": "2025-01-14T05:12:07.395525Z"
    }
   },
   "cell_type": "code",
   "source": [
    "x.pop() # the way to remove the first element\n",
    "x.remove(2) # the way to remove a specific element\n",
    "x"
   ],
   "id": "fbd8da5ab921ab2b",
   "outputs": [
    {
     "data": {
      "text/plain": [
       "{3, 4, 5}"
      ]
     },
     "execution_count": 51,
     "metadata": {},
     "output_type": "execute_result"
    }
   ],
   "execution_count": 51
  },
  {
   "metadata": {},
   "cell_type": "markdown",
   "source": "And the last one is dictionary. A dictionary is a collection which is unordered, changeable and indexed. In Python, dictionaries are written with curly brackets, and they have keys and values.",
   "id": "3c050c4049dc4bdc"
  },
  {
   "metadata": {
    "ExecuteTime": {
     "end_time": "2025-01-14T05:22:51.418683Z",
     "start_time": "2025-01-14T05:22:51.414293Z"
    }
   },
   "cell_type": "code",
   "source": [
    "x = {'a': 1, \n",
    "     'b': 2, \n",
    "     'c': 3}\n",
    "\n",
    "x['a']"
   ],
   "id": "e0068ffec50e6492",
   "outputs": [
    {
     "data": {
      "text/plain": [
       "1"
      ]
     },
     "execution_count": 52,
     "metadata": {},
     "output_type": "execute_result"
    }
   ],
   "execution_count": 52
  },
  {
   "metadata": {},
   "cell_type": "markdown",
   "source": "Sets and Dictionary are implemented as hash tables in Python, so they are very fast when you want to search for an element. But the order of the elements is not guaranteed. If you want to keep the order of the elements. Both of the data types are very good option to speed up your code. This is something that you can't easily find in R.",
   "id": "29dbcc2b55c8b1a0"
  },
  {
   "metadata": {},
   "cell_type": "markdown",
   "source": [
    "## Loops\n",
    "\n",
    "In R, you can use a for loop like this:\n",
    "```R\n",
    "for (i in 1:5) {\n",
    "    print(i)\n",
    "}\n",
    "```\n",
    "\n",
    "In Python, it is very similar:"
   ],
   "id": "7cfac9f442b38f39"
  },
  {
   "metadata": {
    "ExecuteTime": {
     "end_time": "2025-01-12T05:00:35.970541Z",
     "start_time": "2025-01-12T05:00:35.968593Z"
    }
   },
   "cell_type": "code",
   "source": [
    "for i in range(1, 6):\n",
    "    print(i)"
   ],
   "id": "f3953575589a03c5",
   "outputs": [
    {
     "name": "stdout",
     "output_type": "stream",
     "text": [
      "1\n",
      "2\n",
      "3\n",
      "4\n",
      "5\n"
     ]
    }
   ],
   "execution_count": 34
  },
  {
   "metadata": {},
   "cell_type": "markdown",
   "source": [
    "In R, you define a while loop like this:\n",
    "```R\n",
    "i <- 1\n",
    "while (i <= 5) {\n",
    "    print(i)\n",
    "    i <- i + 1\n",
    "}\n",
    "```\n",
    "In Python, it's like:"
   ],
   "id": "9d8078cce04b0f3d"
  },
  {
   "metadata": {
    "ExecuteTime": {
     "end_time": "2025-01-12T05:01:28.955876Z",
     "start_time": "2025-01-12T05:01:28.953410Z"
    }
   },
   "cell_type": "code",
   "source": [
    "i = 1\n",
    "while i <= 5:\n",
    "    print(i)\n",
    "    i += 1"
   ],
   "id": "19e4d2ae52bc91ee",
   "outputs": [
    {
     "name": "stdout",
     "output_type": "stream",
     "text": [
      "1\n",
      "2\n",
      "3\n",
      "4\n",
      "5\n"
     ]
    }
   ],
   "execution_count": 35
  },
  {
   "metadata": {},
   "cell_type": "markdown",
   "source": [
    "## Functions\n",
    "\n",
    "In R, you can define a function like this:\n",
    "```R\n",
    "add <- function(x, y) {\n",
    "    return(x + y)\n",
    "    }\n",
    "```\n",
    "\n",
    "In Python, you can define a function like this:"
   ],
   "id": "b8775be019a53138"
  },
  {
   "metadata": {
    "ExecuteTime": {
     "end_time": "2025-01-12T02:51:53.264294Z",
     "start_time": "2025-01-12T02:51:53.257619Z"
    }
   },
   "cell_type": "code",
   "source": [
    "def add(x, y):\n",
    "    return x + y\n",
    "add(3, 4)"
   ],
   "id": "8224fe999ba4b90f",
   "outputs": [
    {
     "data": {
      "text/plain": [
       "7"
      ]
     },
     "execution_count": 27,
     "metadata": {},
     "output_type": "execute_result"
    }
   ],
   "execution_count": 27
  },
  {
   "metadata": {},
   "cell_type": "markdown",
   "source": "Python use spaces to define the scope of a function, while R uses curly braces. So, be careful with the indentation in Python. For example, the following function won't work in Python because you are not using the correct indentation:",
   "id": "fda8ddbf6c7f9bf8"
  },
  {
   "metadata": {
    "ExecuteTime": {
     "end_time": "2025-01-12T02:53:44.917812Z",
     "start_time": "2025-01-12T02:53:44.915645Z"
    }
   },
   "cell_type": "code",
   "source": [
    "def add(x, y):\n",
    "      x+1\n",
    "    return x + y\n",
    "\n",
    "add(3, 4)"
   ],
   "id": "b1651539b2473a60",
   "outputs": [
    {
     "ename": "IndentationError",
     "evalue": "unindent does not match any outer indentation level (<string>, line 3)",
     "output_type": "error",
     "traceback": [
      "\u001B[0;36m  File \u001B[0;32m<string>:3\u001B[0;36m\u001B[0m\n\u001B[0;31m    return x + y\u001B[0m\n\u001B[0m                ^\u001B[0m\n\u001B[0;31mIndentationError\u001B[0m\u001B[0;31m:\u001B[0m unindent does not match any outer indentation level\n"
     ]
    }
   ],
   "execution_count": 30
  },
  {
   "metadata": {},
   "cell_type": "markdown",
   "source": [
    "## Classes\n",
    "\n",
    "You may have very limited chances to use classes in R, but in Python, classes are very common. You can define a class like this:"
   ],
   "id": "a19384a180f29efc"
  },
  {
   "metadata": {
    "ExecuteTime": {
     "end_time": "2025-01-12T04:59:38.387578Z",
     "start_time": "2025-01-12T04:59:38.384549Z"
    }
   },
   "cell_type": "code",
   "source": [
    "class Person:\n",
    "    def __init__(self, name, age):\n",
    "        self.name = name\n",
    "        self.age = age\n",
    "\n",
    "    def greet(self):\n",
    "        print(f'Hello, my name is {self.name} and I am {self.age} years old.')\n",
    "        \n",
    "p = Person('William', 18)\n",
    "p.greet()\n",
    "p.age"
   ],
   "id": "c470e2ce5cbc39b4",
   "outputs": [
    {
     "name": "stdout",
     "output_type": "stream",
     "text": [
      "Hello, my name is William and I am 18 years old.\n"
     ]
    },
    {
     "data": {
      "text/plain": [
       "18"
      ]
     },
     "execution_count": 33,
     "metadata": {},
     "output_type": "execute_result"
    }
   ],
   "execution_count": 33
  },
  {
   "metadata": {},
   "cell_type": "markdown",
   "source": "Classes are an important concept in Python and OOP (Object Oriented Programming). In the class above, you can see it has two methods: `__init__` and `greet`. `__init__` is a special method in Python that is called when you create an object of the class. `self` is a reference to the object itself. You can access the attributes of the object with `self`.",
   "id": "3e883da0348520da"
  },
  {
   "metadata": {},
   "cell_type": "markdown",
   "source": [
    "## Numpy Arrays\n",
    "\n",
    "We have talked about the basic arrays in Python before, now let me show you a more common way that people use to create arrays in Python. You can use `numpy` library to create arrays like this:"
   ],
   "id": "31d259d09e900b1f"
  },
  {
   "metadata": {
    "ExecuteTime": {
     "end_time": "2025-01-12T02:24:33.000942Z",
     "start_time": "2025-01-12T02:24:32.996011Z"
    }
   },
   "cell_type": "code",
   "source": [
    "import numpy as np\n",
    "x = np.array([[1, 2, 3], [4, 5, 6], [7, 8, 9]])\n",
    "x"
   ],
   "id": "12b40eb25b86fb46",
   "outputs": [
    {
     "data": {
      "text/plain": [
       "array([[1, 2, 3],\n",
       "       [4, 5, 6],\n",
       "       [7, 8, 9]])"
      ]
     },
     "execution_count": 4,
     "metadata": {},
     "output_type": "execute_result"
    }
   ],
   "execution_count": 4
  },
  {
   "metadata": {},
   "cell_type": "markdown",
   "source": "`numpy` is very widly used in Python for numerical operations. It is very similar to R's `matrix` and `array` functions. You can see it in a lot of operations in Python. For example, when you want to perform a matrix multiplication, you can use `np.dot` function like this:",
   "id": "67e5b940530c4628"
  },
  {
   "metadata": {
    "ExecuteTime": {
     "end_time": "2025-01-12T02:34:19.625281Z",
     "start_time": "2025-01-12T02:34:19.622293Z"
    }
   },
   "cell_type": "code",
   "source": [
    "x = np.array([[13, 21, 3], [24, 30, 16], [7, 2, 1]])\n",
    "y = np.array([[11, 22, 33], [44, 55, 66], [77, 88, 99]])\n",
    "\n",
    "np.dot(x, y)"
   ],
   "id": "7d800ac73bb5edd7",
   "outputs": [
    {
     "data": {
      "text/plain": [
       "array([[1298, 1705, 2112],\n",
       "       [2816, 3586, 4356],\n",
       "       [ 242,  352,  462]])"
      ]
     },
     "execution_count": 11,
     "metadata": {},
     "output_type": "execute_result"
    }
   ],
   "execution_count": 11
  },
  {
   "metadata": {},
   "cell_type": "markdown",
   "source": "And you can also use `np.transpose` function to transpose a matrix like this:",
   "id": "a0f60f1ad36475f0"
  },
  {
   "metadata": {
    "ExecuteTime": {
     "end_time": "2025-01-12T02:34:20.796623Z",
     "start_time": "2025-01-12T02:34:20.793996Z"
    }
   },
   "cell_type": "code",
   "source": "np.transpose(x)",
   "id": "a37637ef2713c3b1",
   "outputs": [
    {
     "data": {
      "text/plain": [
       "array([[13, 24,  7],\n",
       "       [21, 30,  2],\n",
       "       [ 3, 16,  1]])"
      ]
     },
     "execution_count": 12,
     "metadata": {},
     "output_type": "execute_result"
    }
   ],
   "execution_count": 12
  },
  {
   "metadata": {},
   "cell_type": "markdown",
   "source": "You can also use `np.linalg.inv` function to get the inverse of a matrix:",
   "id": "fafb8dd54ede1ece"
  },
  {
   "metadata": {
    "ExecuteTime": {
     "end_time": "2025-01-12T02:34:21.793195Z",
     "start_time": "2025-01-12T02:34:21.790757Z"
    }
   },
   "cell_type": "code",
   "source": "np.linalg.inv(x)",
   "id": "cf354aa0ac974afa",
   "outputs": [
    {
     "data": {
      "text/plain": [
       "array([[-0.00149701, -0.01122754,  0.18413174],\n",
       "       [ 0.06586826, -0.00598802, -0.10179641],\n",
       "       [-0.12125749,  0.09056886, -0.08532934]])"
      ]
     },
     "execution_count": 13,
     "metadata": {},
     "output_type": "execute_result"
    }
   ],
   "execution_count": 13
  },
  {
   "metadata": {},
   "cell_type": "markdown",
   "source": "And you can use `np.linalg.det` function to get the determinant of a matrix like this:",
   "id": "155a5782213bef4f"
  },
  {
   "metadata": {
    "ExecuteTime": {
     "end_time": "2025-01-12T02:34:22.732101Z",
     "start_time": "2025-01-12T02:34:22.729575Z"
    }
   },
   "cell_type": "code",
   "source": "np.linalg.det(x)",
   "id": "cd11aef1be0209ae",
   "outputs": [
    {
     "data": {
      "text/plain": [
       "1335.9999999999995"
      ]
     },
     "execution_count": 14,
     "metadata": {},
     "output_type": "execute_result"
    }
   ],
   "execution_count": 14
  },
  {
   "metadata": {},
   "cell_type": "markdown",
   "source": [
    "## Data Frames\n",
    "\n",
    "In R, you can create a data frame like this:\n",
    "```R\n",
    "df <- data.frame(x = c(1, 2, 3), y = c(4, 5, 6))\n",
    "```\n",
    "But in Python, you can create a pandas DataFrame like this:"
   ],
   "id": "4f98a8bf8538f7e1"
  },
  {
   "metadata": {
    "ExecuteTime": {
     "end_time": "2025-01-12T02:35:39.649983Z",
     "start_time": "2025-01-12T02:35:39.639841Z"
    }
   },
   "cell_type": "code",
   "source": [
    "df = pd.DataFrame({'x': [1, 2, 3], 'y': [4, 5, 6]})\n",
    "df"
   ],
   "id": "3519d0c4c27e9ba4",
   "outputs": [
    {
     "data": {
      "text/plain": [
       "   x  y\n",
       "0  1  4\n",
       "1  2  5\n",
       "2  3  6"
      ],
      "text/html": [
       "<div>\n",
       "<style scoped>\n",
       "    .dataframe tbody tr th:only-of-type {\n",
       "        vertical-align: middle;\n",
       "    }\n",
       "\n",
       "    .dataframe tbody tr th {\n",
       "        vertical-align: top;\n",
       "    }\n",
       "\n",
       "    .dataframe thead th {\n",
       "        text-align: right;\n",
       "    }\n",
       "</style>\n",
       "<table border=\"1\" class=\"dataframe\">\n",
       "  <thead>\n",
       "    <tr style=\"text-align: right;\">\n",
       "      <th></th>\n",
       "      <th>x</th>\n",
       "      <th>y</th>\n",
       "    </tr>\n",
       "  </thead>\n",
       "  <tbody>\n",
       "    <tr>\n",
       "      <th>0</th>\n",
       "      <td>1</td>\n",
       "      <td>4</td>\n",
       "    </tr>\n",
       "    <tr>\n",
       "      <th>1</th>\n",
       "      <td>2</td>\n",
       "      <td>5</td>\n",
       "    </tr>\n",
       "    <tr>\n",
       "      <th>2</th>\n",
       "      <td>3</td>\n",
       "      <td>6</td>\n",
       "    </tr>\n",
       "  </tbody>\n",
       "</table>\n",
       "</div>"
      ]
     },
     "execution_count": 16,
     "metadata": {},
     "output_type": "execute_result"
    }
   ],
   "execution_count": 16
  },
  {
   "metadata": {},
   "cell_type": "markdown",
   "source": "Pandas is a very powerful library in Python for data manipulation. You can do a lot of operations on a DataFrame. For example, you can select a column like this:\n",
   "id": "7d8840a684a70312"
  },
  {
   "metadata": {
    "ExecuteTime": {
     "end_time": "2025-01-12T02:44:49.636201Z",
     "start_time": "2025-01-12T02:44:49.627937Z"
    }
   },
   "cell_type": "code",
   "source": "df['x']",
   "id": "4728c5fd8d4ba720",
   "outputs": [
    {
     "data": {
      "text/plain": [
       "0    1\n",
       "1    2\n",
       "2    3\n",
       "Name: x, dtype: int64"
      ]
     },
     "execution_count": 19,
     "metadata": {},
     "output_type": "execute_result"
    }
   ],
   "execution_count": 19
  },
  {
   "metadata": {},
   "cell_type": "markdown",
   "source": "You can select multiple columns with:",
   "id": "62385a08d6242ac9"
  },
  {
   "metadata": {
    "ExecuteTime": {
     "end_time": "2025-01-12T02:45:09.839926Z",
     "start_time": "2025-01-12T02:45:09.833239Z"
    }
   },
   "cell_type": "code",
   "source": "df[['x', 'y']]",
   "id": "65bfd38c4ee4d403",
   "outputs": [
    {
     "data": {
      "text/plain": [
       "   x  y\n",
       "0  1  4\n",
       "1  2  5\n",
       "2  3  6"
      ],
      "text/html": [
       "<div>\n",
       "<style scoped>\n",
       "    .dataframe tbody tr th:only-of-type {\n",
       "        vertical-align: middle;\n",
       "    }\n",
       "\n",
       "    .dataframe tbody tr th {\n",
       "        vertical-align: top;\n",
       "    }\n",
       "\n",
       "    .dataframe thead th {\n",
       "        text-align: right;\n",
       "    }\n",
       "</style>\n",
       "<table border=\"1\" class=\"dataframe\">\n",
       "  <thead>\n",
       "    <tr style=\"text-align: right;\">\n",
       "      <th></th>\n",
       "      <th>x</th>\n",
       "      <th>y</th>\n",
       "    </tr>\n",
       "  </thead>\n",
       "  <tbody>\n",
       "    <tr>\n",
       "      <th>0</th>\n",
       "      <td>1</td>\n",
       "      <td>4</td>\n",
       "    </tr>\n",
       "    <tr>\n",
       "      <th>1</th>\n",
       "      <td>2</td>\n",
       "      <td>5</td>\n",
       "    </tr>\n",
       "    <tr>\n",
       "      <th>2</th>\n",
       "      <td>3</td>\n",
       "      <td>6</td>\n",
       "    </tr>\n",
       "  </tbody>\n",
       "</table>\n",
       "</div>"
      ]
     },
     "execution_count": 20,
     "metadata": {},
     "output_type": "execute_result"
    }
   ],
   "execution_count": 20
  },
  {
   "metadata": {},
   "cell_type": "markdown",
   "source": "You can select a row like this:",
   "id": "efd12aeeb779d9e5"
  },
  {
   "metadata": {
    "ExecuteTime": {
     "end_time": "2025-01-12T02:45:37.806856Z",
     "start_time": "2025-01-12T02:45:37.803843Z"
    }
   },
   "cell_type": "code",
   "source": "df.iloc[0]",
   "id": "a147e4441222613e",
   "outputs": [
    {
     "data": {
      "text/plain": [
       "x    1\n",
       "y    4\n",
       "Name: 0, dtype: int64"
      ]
     },
     "execution_count": 21,
     "metadata": {},
     "output_type": "execute_result"
    }
   ],
   "execution_count": 21
  },
  {
   "metadata": {},
   "cell_type": "markdown",
   "source": "You can also select a cell with:",
   "id": "d81431dd993d5b3"
  },
  {
   "metadata": {
    "ExecuteTime": {
     "end_time": "2025-01-12T02:45:58.640737Z",
     "start_time": "2025-01-12T02:45:58.638462Z"
    }
   },
   "cell_type": "code",
   "source": "df['x'][0]",
   "id": "105f5c418948a79e",
   "outputs": [
    {
     "data": {
      "text/plain": [
       "1"
      ]
     },
     "execution_count": 22,
     "metadata": {},
     "output_type": "execute_result"
    }
   ],
   "execution_count": 22
  },
  {
   "metadata": {},
   "cell_type": "markdown",
   "source": "You can select a subset of the DataFrame like this:",
   "id": "5b5823695a170de4"
  },
  {
   "metadata": {
    "ExecuteTime": {
     "end_time": "2025-01-12T02:46:14.570028Z",
     "start_time": "2025-01-12T02:46:14.565544Z"
    }
   },
   "cell_type": "code",
   "source": "df.iloc[0:2]",
   "id": "3e7621319c728e87",
   "outputs": [
    {
     "data": {
      "text/plain": [
       "   x  y\n",
       "0  1  4\n",
       "1  2  5"
      ],
      "text/html": [
       "<div>\n",
       "<style scoped>\n",
       "    .dataframe tbody tr th:only-of-type {\n",
       "        vertical-align: middle;\n",
       "    }\n",
       "\n",
       "    .dataframe tbody tr th {\n",
       "        vertical-align: top;\n",
       "    }\n",
       "\n",
       "    .dataframe thead th {\n",
       "        text-align: right;\n",
       "    }\n",
       "</style>\n",
       "<table border=\"1\" class=\"dataframe\">\n",
       "  <thead>\n",
       "    <tr style=\"text-align: right;\">\n",
       "      <th></th>\n",
       "      <th>x</th>\n",
       "      <th>y</th>\n",
       "    </tr>\n",
       "  </thead>\n",
       "  <tbody>\n",
       "    <tr>\n",
       "      <th>0</th>\n",
       "      <td>1</td>\n",
       "      <td>4</td>\n",
       "    </tr>\n",
       "    <tr>\n",
       "      <th>1</th>\n",
       "      <td>2</td>\n",
       "      <td>5</td>\n",
       "    </tr>\n",
       "  </tbody>\n",
       "</table>\n",
       "</div>"
      ]
     },
     "execution_count": 23,
     "metadata": {},
     "output_type": "execute_result"
    }
   ],
   "execution_count": 23
  },
  {
   "metadata": {},
   "cell_type": "markdown",
   "source": "And more interestingly, you can filter the DataFrame like this:",
   "id": "6c9697e20c9910f7"
  },
  {
   "metadata": {
    "ExecuteTime": {
     "end_time": "2025-01-12T02:47:25.103158Z",
     "start_time": "2025-01-12T02:47:25.099868Z"
    }
   },
   "cell_type": "code",
   "source": "df[df['x'] > 1]",
   "id": "a22ce378f634cafa",
   "outputs": [
    {
     "data": {
      "text/plain": [
       "   x  y\n",
       "1  2  5\n",
       "2  3  6"
      ],
      "text/html": [
       "<div>\n",
       "<style scoped>\n",
       "    .dataframe tbody tr th:only-of-type {\n",
       "        vertical-align: middle;\n",
       "    }\n",
       "\n",
       "    .dataframe tbody tr th {\n",
       "        vertical-align: top;\n",
       "    }\n",
       "\n",
       "    .dataframe thead th {\n",
       "        text-align: right;\n",
       "    }\n",
       "</style>\n",
       "<table border=\"1\" class=\"dataframe\">\n",
       "  <thead>\n",
       "    <tr style=\"text-align: right;\">\n",
       "      <th></th>\n",
       "      <th>x</th>\n",
       "      <th>y</th>\n",
       "    </tr>\n",
       "  </thead>\n",
       "  <tbody>\n",
       "    <tr>\n",
       "      <th>1</th>\n",
       "      <td>2</td>\n",
       "      <td>5</td>\n",
       "    </tr>\n",
       "    <tr>\n",
       "      <th>2</th>\n",
       "      <td>3</td>\n",
       "      <td>6</td>\n",
       "    </tr>\n",
       "  </tbody>\n",
       "</table>\n",
       "</div>"
      ]
     },
     "execution_count": 24,
     "metadata": {},
     "output_type": "execute_result"
    }
   ],
   "execution_count": 24
  },
  {
   "metadata": {},
   "cell_type": "markdown",
   "source": "And even use sql-like queries like this:",
   "id": "13ca05000f841fb6"
  },
  {
   "metadata": {
    "ExecuteTime": {
     "end_time": "2025-01-12T02:48:07.548325Z",
     "start_time": "2025-01-12T02:48:07.543395Z"
    }
   },
   "cell_type": "code",
   "source": "df.query('x > 1 and y < 6')",
   "id": "b237d065369318b6",
   "outputs": [
    {
     "data": {
      "text/plain": [
       "   x  y\n",
       "1  2  5"
      ],
      "text/html": [
       "<div>\n",
       "<style scoped>\n",
       "    .dataframe tbody tr th:only-of-type {\n",
       "        vertical-align: middle;\n",
       "    }\n",
       "\n",
       "    .dataframe tbody tr th {\n",
       "        vertical-align: top;\n",
       "    }\n",
       "\n",
       "    .dataframe thead th {\n",
       "        text-align: right;\n",
       "    }\n",
       "</style>\n",
       "<table border=\"1\" class=\"dataframe\">\n",
       "  <thead>\n",
       "    <tr style=\"text-align: right;\">\n",
       "      <th></th>\n",
       "      <th>x</th>\n",
       "      <th>y</th>\n",
       "    </tr>\n",
       "  </thead>\n",
       "  <tbody>\n",
       "    <tr>\n",
       "      <th>1</th>\n",
       "      <td>2</td>\n",
       "      <td>5</td>\n",
       "    </tr>\n",
       "  </tbody>\n",
       "</table>\n",
       "</div>"
      ]
     },
     "execution_count": 26,
     "metadata": {},
     "output_type": "execute_result"
    }
   ],
   "execution_count": 26
  },
  {
   "metadata": {},
   "cell_type": "markdown",
   "source": [
    "## Some Practice\n",
    "\n",
    "### Binary Search\n",
    "\n",
    "Binary search is a very common algorithm in computer science. You can implement it like this in R:\n",
    "```R\n",
    "binary_search <- function(arr, x) {\n",
    "    low <- 1\n",
    "    high <- length(arr)\n",
    "    \n",
    "    while (low <= high) {\n",
    "        mid <- (low + high) %/% 2\n",
    "        if (arr[mid] == x) {\n",
    "            return(mid)\n",
    "        } else if (arr[mid] < x) {\n",
    "            low <- mid + 1\n",
    "        } else {\n",
    "            high <- mid - 1\n",
    "        }\n",
    "    }\n",
    "    \n",
    "    return(-1)\n",
    "}\n",
    "```\n",
    "\n",
    "Well, this is how we do it in Python:"
   ],
   "id": "88adedd83f98dae8"
  },
  {
   "metadata": {
    "ExecuteTime": {
     "end_time": "2025-01-14T05:58:53.222761Z",
     "start_time": "2025-01-14T05:58:53.214963Z"
    }
   },
   "cell_type": "code",
   "source": [
    "def binary_search(arr, x):\n",
    "    low = 0\n",
    "    high = len(arr) - 1\n",
    "    \n",
    "    while low <= high:\n",
    "        mid = (low + high) // 2\n",
    "        if arr[mid] == x:\n",
    "            return mid\n",
    "        elif arr[mid] < x:\n",
    "            low = mid + 1\n",
    "        else:\n",
    "            high = mid - 1\n",
    "            \n",
    "    return -1\n",
    "\n",
    "arr = [1, 2, 3, 4, 5, 6, 7, 8, 9]\n",
    "binary_search(arr, 5)"
   ],
   "id": "dc83d0c417b7cb98",
   "outputs": [
    {
     "data": {
      "text/plain": [
       "4"
      ]
     },
     "execution_count": 53,
     "metadata": {},
     "output_type": "execute_result"
    }
   ],
   "execution_count": 53
  },
  {
   "metadata": {},
   "cell_type": "markdown",
   "source": [
    "### Pandas\n",
    "\n",
    "This is a question from [Leetcode 595. Big Countries](https://leetcode.com/problems/big-countries/):\n",
    "\n",
    "Find the number of countries that are big. A country is big if it has an area of bigger than 3000000 square km or a population of more than 25000000.\n",
    "\n",
    "Example:\n",
    "\n",
    "Input:\n",
    "| name         | continent | area    | population | gdp          |\n",
    "|--------------|-----------|---------|------------|--------------|\n",
    "| Afghanistan  | Asia      | 652230  | 25500100   | 20343000000  |\n",
    "| Albania      | Europe    | 28748   | 2831741    | 12960000000  |\n",
    "| Algeria      | Africa    | 2381741 | 37100000   | 188681000000 |\n",
    "| Andorra      | Europe    | 468     | 78115      | 3712000000   |\n",
    "| Angola       | Africa    | 1246700 | 20609294   | 100990000000 |\n",
    "\n",
    "Output:\n",
    "| name         | population | area    |\n",
    "|--------------|------------|---------|\n",
    "| Afghanistan  | 25500100   | 652230  |\n",
    "| Algeria      | 37100000   | 2381741 |"
   ],
   "id": "64342e77f2bdfc02"
  },
  {
   "metadata": {
    "ExecuteTime": {
     "end_time": "2025-01-14T06:17:10.144159Z",
     "start_time": "2025-01-14T06:17:10.136900Z"
    }
   },
   "cell_type": "code",
   "source": [
    "data = [\n",
    "    {\n",
    "        'name': 'Afghanistan',\n",
    "        'continent': 'Asia',\n",
    "        'area': 652230,\n",
    "        'population': 25500100,\n",
    "        'gdp': 20343000000\n",
    "    },\n",
    "    {\n",
    "        'name': 'Albania',\n",
    "        'continent': 'Europe',\n",
    "        'area': 28748,\n",
    "        'population': 2831741,\n",
    "        'gdp': 12960000000\n",
    "    },\n",
    "    {\n",
    "        'name': 'Algeria',\n",
    "        'continent': 'Africa',\n",
    "        'area': 2381741,\n",
    "        'population': 37100000,\n",
    "        'gdp': 188681000000\n",
    "    },\n",
    "    {\n",
    "        'name': 'Andorra',\n",
    "        'continent': 'Europe',\n",
    "        'area': 468,\n",
    "        'population': 78115,\n",
    "        'gdp': 3712000000\n",
    "    },\n",
    "    {\n",
    "        'name': 'Angola',\n",
    "        'continent': 'Africa',\n",
    "        'area': 1246700,\n",
    "        'population': 20609294,\n",
    "        'gdp': 100990000000\n",
    "    }\n",
    "]\n",
    "\n",
    "df = pd.DataFrame(data)\n",
    "df"
   ],
   "id": "1f19a5ecaa2b08f1",
   "outputs": [
    {
     "data": {
      "text/plain": [
       "          name continent     area  population           gdp\n",
       "0  Afghanistan      Asia   652230    25500100   20343000000\n",
       "1      Albania    Europe    28748     2831741   12960000000\n",
       "2      Algeria    Africa  2381741    37100000  188681000000\n",
       "3      Andorra    Europe      468       78115    3712000000\n",
       "4       Angola    Africa  1246700    20609294  100990000000"
      ],
      "text/html": [
       "<div>\n",
       "<style scoped>\n",
       "    .dataframe tbody tr th:only-of-type {\n",
       "        vertical-align: middle;\n",
       "    }\n",
       "\n",
       "    .dataframe tbody tr th {\n",
       "        vertical-align: top;\n",
       "    }\n",
       "\n",
       "    .dataframe thead th {\n",
       "        text-align: right;\n",
       "    }\n",
       "</style>\n",
       "<table border=\"1\" class=\"dataframe\">\n",
       "  <thead>\n",
       "    <tr style=\"text-align: right;\">\n",
       "      <th></th>\n",
       "      <th>name</th>\n",
       "      <th>continent</th>\n",
       "      <th>area</th>\n",
       "      <th>population</th>\n",
       "      <th>gdp</th>\n",
       "    </tr>\n",
       "  </thead>\n",
       "  <tbody>\n",
       "    <tr>\n",
       "      <th>0</th>\n",
       "      <td>Afghanistan</td>\n",
       "      <td>Asia</td>\n",
       "      <td>652230</td>\n",
       "      <td>25500100</td>\n",
       "      <td>20343000000</td>\n",
       "    </tr>\n",
       "    <tr>\n",
       "      <th>1</th>\n",
       "      <td>Albania</td>\n",
       "      <td>Europe</td>\n",
       "      <td>28748</td>\n",
       "      <td>2831741</td>\n",
       "      <td>12960000000</td>\n",
       "    </tr>\n",
       "    <tr>\n",
       "      <th>2</th>\n",
       "      <td>Algeria</td>\n",
       "      <td>Africa</td>\n",
       "      <td>2381741</td>\n",
       "      <td>37100000</td>\n",
       "      <td>188681000000</td>\n",
       "    </tr>\n",
       "    <tr>\n",
       "      <th>3</th>\n",
       "      <td>Andorra</td>\n",
       "      <td>Europe</td>\n",
       "      <td>468</td>\n",
       "      <td>78115</td>\n",
       "      <td>3712000000</td>\n",
       "    </tr>\n",
       "    <tr>\n",
       "      <th>4</th>\n",
       "      <td>Angola</td>\n",
       "      <td>Africa</td>\n",
       "      <td>1246700</td>\n",
       "      <td>20609294</td>\n",
       "      <td>100990000000</td>\n",
       "    </tr>\n",
       "  </tbody>\n",
       "</table>\n",
       "</div>"
      ]
     },
     "execution_count": 55,
     "metadata": {},
     "output_type": "execute_result"
    }
   ],
   "execution_count": 55
  },
  {
   "metadata": {
    "ExecuteTime": {
     "end_time": "2025-01-14T06:17:12.781222Z",
     "start_time": "2025-01-14T06:17:12.767788Z"
    }
   },
   "cell_type": "code",
   "source": [
    "# Solution 1\n",
    "def big_countries_solution_1(world: pd.DataFrame):\n",
    "    return world.query(\"area >= 3000000 or population >= 25000000\")[[\"name\", \"population\", \"area\"]]\n",
    "\n",
    "big_countries_solution_1(df)"
   ],
   "id": "2574614be9698542",
   "outputs": [
    {
     "data": {
      "text/plain": [
       "          name  population     area\n",
       "0  Afghanistan    25500100   652230\n",
       "2      Algeria    37100000  2381741"
      ],
      "text/html": [
       "<div>\n",
       "<style scoped>\n",
       "    .dataframe tbody tr th:only-of-type {\n",
       "        vertical-align: middle;\n",
       "    }\n",
       "\n",
       "    .dataframe tbody tr th {\n",
       "        vertical-align: top;\n",
       "    }\n",
       "\n",
       "    .dataframe thead th {\n",
       "        text-align: right;\n",
       "    }\n",
       "</style>\n",
       "<table border=\"1\" class=\"dataframe\">\n",
       "  <thead>\n",
       "    <tr style=\"text-align: right;\">\n",
       "      <th></th>\n",
       "      <th>name</th>\n",
       "      <th>population</th>\n",
       "      <th>area</th>\n",
       "    </tr>\n",
       "  </thead>\n",
       "  <tbody>\n",
       "    <tr>\n",
       "      <th>0</th>\n",
       "      <td>Afghanistan</td>\n",
       "      <td>25500100</td>\n",
       "      <td>652230</td>\n",
       "    </tr>\n",
       "    <tr>\n",
       "      <th>2</th>\n",
       "      <td>Algeria</td>\n",
       "      <td>37100000</td>\n",
       "      <td>2381741</td>\n",
       "    </tr>\n",
       "  </tbody>\n",
       "</table>\n",
       "</div>"
      ]
     },
     "execution_count": 56,
     "metadata": {},
     "output_type": "execute_result"
    }
   ],
   "execution_count": 56
  },
  {
   "metadata": {
    "ExecuteTime": {
     "end_time": "2025-01-14T06:18:02.064269Z",
     "start_time": "2025-01-14T06:18:02.059198Z"
    }
   },
   "cell_type": "code",
   "source": [
    "# Solution 2\n",
    "def big_countries_solution_2(world: pd.DataFrame) -> pd.DataFrame:\n",
    "    world = world[(world['population'] >= 25000000) | (world['area'] >= 3000000)]\n",
    "    result = world[['name', 'population', 'area']]\n",
    "    return result\n",
    "\n",
    "big_countries_solution_2(df)"
   ],
   "id": "a3457b171572b6f8",
   "outputs": [
    {
     "data": {
      "text/plain": [
       "          name  population     area\n",
       "0  Afghanistan    25500100   652230\n",
       "2      Algeria    37100000  2381741"
      ],
      "text/html": [
       "<div>\n",
       "<style scoped>\n",
       "    .dataframe tbody tr th:only-of-type {\n",
       "        vertical-align: middle;\n",
       "    }\n",
       "\n",
       "    .dataframe tbody tr th {\n",
       "        vertical-align: top;\n",
       "    }\n",
       "\n",
       "    .dataframe thead th {\n",
       "        text-align: right;\n",
       "    }\n",
       "</style>\n",
       "<table border=\"1\" class=\"dataframe\">\n",
       "  <thead>\n",
       "    <tr style=\"text-align: right;\">\n",
       "      <th></th>\n",
       "      <th>name</th>\n",
       "      <th>population</th>\n",
       "      <th>area</th>\n",
       "    </tr>\n",
       "  </thead>\n",
       "  <tbody>\n",
       "    <tr>\n",
       "      <th>0</th>\n",
       "      <td>Afghanistan</td>\n",
       "      <td>25500100</td>\n",
       "      <td>652230</td>\n",
       "    </tr>\n",
       "    <tr>\n",
       "      <th>2</th>\n",
       "      <td>Algeria</td>\n",
       "      <td>37100000</td>\n",
       "      <td>2381741</td>\n",
       "    </tr>\n",
       "  </tbody>\n",
       "</table>\n",
       "</div>"
      ]
     },
     "execution_count": 57,
     "metadata": {},
     "output_type": "execute_result"
    }
   ],
   "execution_count": 57
  },
  {
   "metadata": {},
   "cell_type": "markdown",
   "source": "What did you notice from the running time? Why?",
   "id": "c36ffe33e77dbc38"
  },
  {
   "metadata": {
    "ExecuteTime": {
     "end_time": "2025-01-14T06:18:22.552874Z",
     "start_time": "2025-01-14T06:18:22.548528Z"
    }
   },
   "cell_type": "code",
   "source": [
    "import time\n",
    "\n",
    "start = time.time()\n",
    "big_countries_solution_1(df)\n",
    "print('Solution 1:', time.time() - start)\n",
    "\n",
    "start = time.time()\n",
    "big_countries_solution_2(df)\n",
    "print('Solution 2:', time.time() - start)"
   ],
   "id": "f7af773e625352a2",
   "outputs": [
    {
     "name": "stdout",
     "output_type": "stream",
     "text": [
      "Solution 1: 0.0012960433959960938\n",
      "Solution 2: 0.0005402565002441406\n"
     ]
    }
   ],
   "execution_count": 58
  },
  {
   "metadata": {},
   "cell_type": "code",
   "outputs": [],
   "execution_count": null,
   "source": "",
   "id": "f535b97ba2e9b3cd"
  }
 ],
 "metadata": {
  "kernelspec": {
   "display_name": "Python 3",
   "language": "python",
   "name": "python3"
  },
  "language_info": {
   "codemirror_mode": {
    "name": "ipython",
    "version": 2
   },
   "file_extension": ".py",
   "mimetype": "text/x-python",
   "name": "python",
   "nbconvert_exporter": "python",
   "pygments_lexer": "ipython2",
   "version": "2.7.6"
  }
 },
 "nbformat": 4,
 "nbformat_minor": 5
}
