{
 "cells": [
  {
   "metadata": {},
   "cell_type": "markdown",
   "source": [
    "# Lab 4 Writing Unit Tests\n",
    "\n",
    "In this lab, we will learn how to write unit tests for your code. Writing unit tests is an important part of software development. It helps you to ensure that your code behaves as expected. In this lab, we will learn what a unit test is, how to write a unit test, and how to use a unit test framework.\n",
    "\n",
    "- [What is a Unit Test?](#What-is-a-Unit-Test)\n",
    "- [A Modern Way to Write Unit Tests](#A-Modern-Way-to-Write-Unit-Tests)\n",
    "    - [Unittest](#Unittest)\n",
    "    - [Pytest](#Pytest)\n",
    "- [Something More](#Something-More)\n",
    "\n",
    "- [Lab 4 Directory](lab4)\n",
    "    - [Demo_pytest](lab4/Demo_pytest)\n",
    "        - [add_function.py](lab4/Demo_pytest/add_function.py)\n",
    "        - [add_func_test.py](lab4/Demo_pytest/add_func_test.py)\n",
    "    - [Demo_unittest](lab4/Demo_unittest)\n",
    "        - [add_function.py](lab4/Demo_unittest/add_function.py)\n",
    "        - [add_func_test.py](lab4/Demo_unittest/add_func_test.py)"
   ],
   "id": "ffc4c62fb2d2b2f0"
  },
  {
   "metadata": {},
   "cell_type": "markdown",
   "source": [
    "## What is a Unit Test\n",
    "\n",
    "A unit test is used to test your function or class to ensure that it behaves as expected. It is a way to validate that the code you wrote is correct. You can find this in most of the software development process. \n",
    "\n",
    "The most simple way to write a unit test is to use the `assert` statement. The `assert` statement is used to check if the condition is `True`. If the condition is `False`, the program will raise an `AssertionError`."
   ],
   "id": "7bec8832d9f528f7"
  },
  {
   "cell_type": "code",
   "id": "initial_id",
   "metadata": {
    "collapsed": true,
    "ExecuteTime": {
     "end_time": "2025-02-07T05:35:20.288964Z",
     "start_time": "2025-02-07T05:35:20.284239Z"
    }
   },
   "source": [
    "def add(a, b):\n",
    "    return a + b\n",
    "\n",
    "def test_add():\n",
    "    assert add(1, 2) == 3\n",
    "    assert add(0, 0) == 0\n",
    "    assert add(-1, 1) == 0\n",
    "    assert add(1, -1) == 0\n",
    "    assert add(-1, -1) == -2\n",
    "    \n",
    "test_add()"
   ],
   "outputs": [],
   "execution_count": 1
  },
  {
   "metadata": {},
   "cell_type": "markdown",
   "source": "The function `add` is a simple function that takes two arguments and returns the sum of the two arguments. The function `test_add` is a unit test for the function `add`. It tests the function `add` with different inputs to ensure that the function behaves as expected. However, it is simply a function that test the basic functionality. In real life, `add` function might be more complex and have more edge cases. Therefore, we need to write more unit tests to cover all the edge cases.",
   "id": "f0f9aa54c60115eb"
  },
  {
   "metadata": {
    "ExecuteTime": {
     "end_time": "2025-02-07T05:37:54.217772Z",
     "start_time": "2025-02-07T05:37:54.212436Z"
    }
   },
   "cell_type": "code",
   "source": [
    "def add(a, b):\n",
    "    if not isinstance(a, (int, float)) or not isinstance(b, (int, float)):\n",
    "        raise TypeError(\"The input must be an integer or a float.\")\n",
    "    \n",
    "    return a + b\n",
    "\n",
    "def test_add():\n",
    "    assert add(1, 2) == 3\n",
    "    assert add(0, 0) == 0\n",
    "    assert add(-1, 1) == 0\n",
    "    assert add(1, -1) == 0\n",
    "    assert add(-1, -1) == -2\n",
    "    \n",
    "    try:\n",
    "        add(\"1\", 2)\n",
    "    except TypeError as e:\n",
    "        assert str(e) == \"The input must be an integer or a float.\"\n",
    "        \n",
    "    try:\n",
    "        add(1, \"2\")\n",
    "    except TypeError as e:\n",
    "        assert str(e) == \"The input must be an integer or a float.\"\n",
    "        \n",
    "    try:\n",
    "        add(\"1\", \"2\")\n",
    "    except TypeError as e:\n",
    "        assert str(e) == \"The input must be an integer or a float.\"\n",
    "        \n",
    "test_add()"
   ],
   "id": "5ec5ae111cf5fa0",
   "outputs": [],
   "execution_count": 2
  },
  {
   "metadata": {},
   "cell_type": "markdown",
   "source": [
    "## A Modern Way to Write Unit Tests\n",
    "\n",
    "You may have realized that if we write unit test like the above, it will take a lot of effort, and the most horrible thing is that we have to run the test manually. In a real world software development, we need to write a lot of unit tests to cover all the edge cases. Therefore, we need a more efficient way: unit test frameworks.\n",
    "\n",
    "### Unittest\n",
    "\n",
    "`unittest` is the built-in unit test framework in Python. It is inspired by JUnit, a testing framework for Java. `unittest` is more powerful than the simple `assert` statement. To use `unittest`, you need to create a test case class that inherits from `unittest.TestCase` and write test methods that start with the word `test_`. Let's say you are test the function `add`, then you should have something like this.\n",
    "\n",
    "> Don't run this code, it won't work in a Jupyter notebook. Please check the code in a Python script. You can find one in the lab4 folder."
   ],
   "id": "789a0724f8cf10e8"
  },
  {
   "metadata": {},
   "cell_type": "code",
   "source": [
    "import unittest\n",
    "\n",
    "# Don't run this code, it won't work in a Jupyter notebook\n",
    "class TestAddFunction(unittest.TestCase):\n",
    "    def test_add_positive_numbers(self):\n",
    "        self.assertEqual(add(1, 2), 3)\n",
    "\n",
    "    def test_add_negative_numbers(self):\n",
    "        self.assertEqual(add(-1, -2), -3)\n",
    "\n",
    "    def test_add_mixed_numbers(self):\n",
    "        self.assertEqual(add(1, -2), -1)\n",
    "        self.assertEqual(add(-1, 2), 1)\n",
    "        \n",
    "    def test_bad_input(self):\n",
    "        with self.assertRaises(TypeError):\n",
    "            add('a', 1)\n",
    "        with self.assertRaises(TypeError):\n",
    "            add(1, 'a')\n",
    "        with self.assertRaises(TypeError):\n",
    "            add('a', 'b')\n",
    "\n",
    "# Don't run this code, it won't work in a Jupyter notebook\n",
    "if __name__ == '__main__':\n",
    "    unittest.main()"
   ],
   "id": "e9458b3fefa3ca1f",
   "outputs": [],
   "execution_count": null
  },
  {
   "metadata": {},
   "cell_type": "markdown",
   "source": [
    "You will expect the output like this:\n",
    "\n",
    "```bash\n",
    "============================= test session starts ==============================\n",
    "collecting ... collected 4 items\n",
    "\n",
    "add_func_test.py::TestAddFunction::test_add_mixed_numbers \n",
    "add_func_test.py::TestAddFunction::test_add_negative_numbers \n",
    "add_func_test.py::TestAddFunction::test_add_positive_numbers \n",
    "add_func_test.py::TestAddFunction::test_bad_input \n",
    "\n",
    "============================== 4 passed in 0.01s ===============================\n",
    "PASSED         [ 25%]PASSED      [ 50%]PASSED      [ 75%]PASSED                 [100%]\n",
    "Process finished with exit code 0\n",
    "```"
   ],
   "id": "a279273f27775249"
  },
  {
   "metadata": {},
   "cell_type": "markdown",
   "source": [
    "### Pytest\n",
    "\n",
    "`pytest` is another popular testing framework in Python. It is more powerful and easier to use than `unittest`. You don't need to create a test case class, you can write test functions directly. You can install `pytest` by running `pip install pytest`. Let's say you are test the function `add`, then you should have something like this. You can also find a python script in the lab4 folder."
   ],
   "id": "6c0d3bb5bc9014"
  },
  {
   "metadata": {},
   "cell_type": "code",
   "outputs": [],
   "execution_count": null,
   "source": [
    "import pytest\n",
    "\n",
    "def test_add_positive_numbers():\n",
    "    assert add(1, 2) == 3\n",
    "\n",
    "\n",
    "def test_add_negative_numbers():\n",
    "    assert add(-1, -2) == -3\n",
    "\n",
    "\n",
    "def test_add_mixed_numbers():\n",
    "    assert add(1, -2) == -1\n",
    "    assert add(-1, 2) == 1\n",
    "\n",
    "\n",
    "def test_bad_input():\n",
    "    with pytest.raises(TypeError):\n",
    "        add('a', 1)\n",
    "    with pytest.raises(TypeError):\n",
    "        add(1, 'a')\n",
    "    with pytest.raises(TypeError):\n",
    "        add('a', 'b')\n",
    "\n",
    "# Don't run this code, it won't work in a Jupyter notebook\n",
    "if __name__ == '__main__':\n",
    "    pytest.main(['-s', 'add_func_test.py'])"
   ],
   "id": "46334cf474830e4"
  },
  {
   "metadata": {},
   "cell_type": "markdown",
   "source": [
    "You will expect the output like this:\n",
    "\n",
    "```bash\n",
    "============================= test session starts ==============================\n",
    "collecting ... collected 4 items\n",
    "\n",
    "add_func_test.py::test_add_positive_numbers PASSED                       [ 25%]\n",
    "add_func_test.py::test_add_negative_numbers PASSED                       [ 50%]\n",
    "add_func_test.py::test_add_mixed_numbers PASSED                          [ 75%]\n",
    "add_func_test.py::test_bad_input PASSED                                  [100%]\n",
    "\n",
    "============================== 4 passed in 0.01s ===============================\n",
    "\n",
    "Process finished with exit code 0\n",
    "```\n",
    "\n",
    "As you may have noticed, this is a more flexible way to write unit tests. You can write test functions directly without creating a test case class. You can also run the test by running `pytest` in the terminal. It will automatically find all the test functions and run them.\n"
   ],
   "id": "f188c2ab6784eb3a"
  },
  {
   "metadata": {},
   "cell_type": "markdown",
   "source": [
    "## Something More\n",
    "\n",
    "With a modern IDE like Pycharm, you can run the unit tests directly in the IDE. There is specific interface for you to run the tests and see the results. \n",
    "\n",
    "![Pycharm Unit Test](Pics/unit_test_ide.png)\n",
    "\n",
    "And you may have already found that writing unit test is boring and time-consuming. The good news is that with the help of AI, you can generate unit tests automatically. Just with few clicks, you will have unit test functions more comprehensive than you can imagine.\n",
    "\n",
    "A unit test will also be the way that I grade your homework. I will run the unit tests on your code to see if the function you submitted to me behaves as expected. And of course, I will pass some parameters that you may not expect to see, so it is important for you to consider all the edge cases when you write your function.\n"
   ],
   "id": "7936ad84bbd4c2c2"
  },
  {
   "metadata": {},
   "cell_type": "code",
   "outputs": [],
   "execution_count": null,
   "source": "",
   "id": "8c343b3f23369ffd"
  }
 ],
 "metadata": {
  "kernelspec": {
   "display_name": "Python 3",
   "language": "python",
   "name": "python3"
  },
  "language_info": {
   "codemirror_mode": {
    "name": "ipython",
    "version": 2
   },
   "file_extension": ".py",
   "mimetype": "text/x-python",
   "name": "python",
   "nbconvert_exporter": "python",
   "pygments_lexer": "ipython2",
   "version": "2.7.6"
  }
 },
 "nbformat": 4,
 "nbformat_minor": 5
}
