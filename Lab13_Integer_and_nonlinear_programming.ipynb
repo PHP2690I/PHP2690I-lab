{
 "cells": [
  {
   "metadata": {},
   "cell_type": "markdown",
   "source": [
    "# Lab 13: Integer and nonlinear programming\n",
    "\n",
    "- [Example 1: Portfolio Optimization with Return and Budget Constraints](#example-1-portfolio-optimization-with-return-and-budget-constraints)\n",
    "- [Example 2: Logistic Regression with L2 Regularization and Norm Constraint](#example-2-logistic-regression-with-l2-regularization-and-norm-constraint)\n",
    "- [Example 3: Constrained Rosenbrock Function](#example-3-constrained-rosenbrock-function)"
   ],
   "id": "6da5573f13e649bf"
  },
  {
   "metadata": {
    "ExecuteTime": {
     "end_time": "2025-04-16T00:10:02.198091Z",
     "start_time": "2025-04-16T00:10:02.195965Z"
    }
   },
   "cell_type": "code",
   "source": [
    "from scipy.optimize import minimize\n",
    "from sklearn.datasets import make_classification\n",
    "from sklearn.preprocessing import StandardScaler\n",
    "import numpy as np"
   ],
   "id": "a5332c2a966a804c",
   "outputs": [],
   "execution_count": 12
  },
  {
   "metadata": {},
   "cell_type": "markdown",
   "source": [
    "## Example 1: Portfolio Optimization with Return and Budget Constraints\n",
    "\n",
    "We aim to construct a portfolio of three assets that minimizes risk (variance) while achieving a minimum expected return. The optimization problem is:\n",
    "\n",
    "Minimize  \n",
    "$$\n",
    "\\frac{1}{2} x^T \\Sigma x\n",
    "$$  \n",
    "subject to:  \n",
    "- Budget constraint: $ \\sum_{i=1}^3 x_i = 1 $  \n",
    "- Minimum return constraint: $ \\mu^T x \\geq R_{\\text{min}} $  \n",
    "- No short-selling: $ 0 \\leq x_i \\leq 1 $\n",
    "\n",
    "Where:\n",
    "- $ \\Sigma $ is the covariance matrix of returns\n",
    "- $ \\mu $ is the vector of expected returns\n",
    "- $ x $ is the vector of investment weights"
   ],
   "id": "e8c6badba919d8f1"
  },
  {
   "cell_type": "code",
   "id": "initial_id",
   "metadata": {
    "collapsed": true,
    "ExecuteTime": {
     "end_time": "2025-04-16T00:10:02.223812Z",
     "start_time": "2025-04-16T00:10:02.216875Z"
    }
   },
   "source": [
    "# Covariance matrix (sigma) and expected returns (mu)\n",
    "sigma = np.array([[0.1, 0.02, 0.04],\n",
    "              [0.02, 0.08, 0.01],\n",
    "              [0.04, 0.01, 0.07]])\n",
    "mu = np.array([0.12, 0.10, 0.15])\n",
    "R_min = 0.11  # Minimum acceptable return\n",
    "\n",
    "# Objective function: 1/2 * x^T sigma x\n",
    "def objective(x):\n",
    "    return 0.5 * np.dot(x.T, np.dot(sigma, x))\n",
    "\n",
    "# Constraints\n",
    "constraints = [\n",
    "    {\"type\": \"eq\", \"fun\": lambda x: np.sum(x) - 1},                  # budget\n",
    "    {\"type\": \"ineq\", \"fun\": lambda x: np.dot(mu, x) - R_min}          # return\n",
    "]\n",
    "\n",
    "# Bounds: no short-selling\n",
    "bounds = [(0, 1)] * 3\n",
    "\n",
    "# Initial guess\n",
    "x0 = np.array([1/3, 1/3, 1/3])\n",
    "\n",
    "# Solve\n",
    "result = minimize(objective, x0, bounds=bounds, constraints=constraints)\n",
    "\n",
    "# Output\n",
    "print(\"Optimal weights:\", result.x)\n",
    "print(\"Minimum variance:\", result.fun)"
   ],
   "outputs": [
    {
     "name": "stdout",
     "output_type": "stream",
     "text": [
      "Optimal weights: [0.14850215 0.41584976 0.43564809]\n",
      "Minimum variance: 0.02029702971042159\n"
     ]
    }
   ],
   "execution_count": 13
  },
  {
   "metadata": {},
   "cell_type": "markdown",
   "source": [
    "## Example 2: Logistic Regression with L2 Regularization and Norm Constraint\n",
    "\n",
    "We perform logistic regression with L2 regularization while constraining the norm of the coefficient vector ( $\\beta$ ). The optimization problem is:\n",
    "\n",
    "**Objective**:  \n",
    "Minimize  \n",
    "$$\n",
    "\\sum_{i=1}^n \\log(1 + \\exp(-y_i \\cdot x_i^T \\beta)) + \\lambda \\|\\beta\\|_2^2\n",
    "$$  \n",
    "subject to:  \n",
    "- $ \\|\\beta\\|_2 \\leq \\tau $\n"
   ],
   "id": "851c45d97911adce"
  },
  {
   "metadata": {
    "ExecuteTime": {
     "end_time": "2025-04-16T00:10:02.241453Z",
     "start_time": "2025-04-16T00:10:02.234297Z"
    }
   },
   "cell_type": "code",
   "source": [
    "# Fix: Ensure sum of informative + redundant + repeated < n_features\n",
    "X, y = make_classification(n_samples=100, n_features=3,\n",
    "                           n_informative=2, n_redundant=0,\n",
    "                           random_state=0)\n",
    "\n",
    "X = StandardScaler().fit_transform(X)\n",
    "y = 2*y - 1  # Convert labels to {-1, 1}\n",
    "\n",
    "lmbda = 0.1\n",
    "tau = 1.5\n",
    "\n",
    "def objective(beta):\n",
    "    logits = y * X.dot(beta)\n",
    "    return np.sum(np.log(1 + np.exp(-logits))) + lmbda * np.sum(beta**2)\n",
    "\n",
    "def norm_constraint(beta):\n",
    "    return tau - np.linalg.norm(beta)\n",
    "\n",
    "x0 = np.zeros(X.shape[1])\n",
    "\n",
    "result = minimize(objective, x0, constraints={\"type\": \"ineq\", \"fun\": norm_constraint})\n",
    "\n",
    "print(\"Optimal beta:\", result.x)\n",
    "print(\"Objective value:\", result.fun)"
   ],
   "id": "d28ddb2a00ff484",
   "outputs": [
    {
     "name": "stdout",
     "output_type": "stream",
     "text": [
      "Optimal beta: [1.48783435 0.07726879 0.17429457]\n",
      "Objective value: 37.122839550888706\n"
     ]
    }
   ],
   "execution_count": 14
  },
  {
   "metadata": {},
   "cell_type": "markdown",
   "source": [
    "## Example 3: Constrained Rosenbrock Function\n",
    "\n",
    "The Rosenbrock function is a classic nonlinear optimization test problem. We minimize it with a nonlinear constraint.\n",
    "\n",
    "**Objective**:  \n",
    "Minimize  \n",
    "$$\n",
    "f(x, y) = (1 - x)^2 + 100(y - x^2)^2\n",
    "$$  \n",
    "subject to:  \n",
    "- $ x^2 + y^2 \\leq 1.5 $"
   ],
   "id": "be16f7469bfd1611"
  },
  {
   "metadata": {
    "ExecuteTime": {
     "end_time": "2025-04-16T00:10:02.263526Z",
     "start_time": "2025-04-16T00:10:02.259118Z"
    }
   },
   "cell_type": "code",
   "source": [
    "# Rosenbrock function\n",
    "def rosenbrock(v):\n",
    "    x, y = v\n",
    "    return (1 - x)**2 + 100*(y - x**2)**2\n",
    "\n",
    "# Constraint: circular region\n",
    "def constraint(v):\n",
    "    x, y = v\n",
    "    return 1.5 - (x**2 + y**2)\n",
    "\n",
    "x0 = [0.5, 0.5]\n",
    "\n",
    "# Solve\n",
    "result = minimize(rosenbrock, x0, constraints={\"type\": \"ineq\", \"fun\": constraint})\n",
    "\n",
    "print(\"Optimal (x, y):\", result.x)\n",
    "print(\"Function value:\", result.fun)"
   ],
   "id": "6b6ccb757635e384",
   "outputs": [
    {
     "name": "stdout",
     "output_type": "stream",
     "text": [
      "Optimal (x, y): [0.90723396 0.82275545]\n",
      "Function value: 0.008615650655584985\n"
     ]
    }
   ],
   "execution_count": 15
  },
  {
   "metadata": {
    "ExecuteTime": {
     "end_time": "2025-04-16T00:10:02.279398Z",
     "start_time": "2025-04-16T00:10:02.277914Z"
    }
   },
   "cell_type": "code",
   "source": "",
   "id": "e07ed4d53e9b3dfd",
   "outputs": [],
   "execution_count": null
  }
 ],
 "metadata": {
  "kernelspec": {
   "display_name": "Python 3",
   "language": "python",
   "name": "python3"
  },
  "language_info": {
   "codemirror_mode": {
    "name": "ipython",
    "version": 2
   },
   "file_extension": ".py",
   "mimetype": "text/x-python",
   "name": "python",
   "nbconvert_exporter": "python",
   "pygments_lexer": "ipython2",
   "version": "2.7.6"
  }
 },
 "nbformat": 4,
 "nbformat_minor": 5
}
