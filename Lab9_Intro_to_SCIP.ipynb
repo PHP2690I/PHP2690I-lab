{
 "cells": [
  {
   "metadata": {},
   "cell_type": "markdown",
   "source": [
    "# Lab 9: Intro to SCIP\n",
    "\n",
    "- [Example: Factory Production Optimization](#Example:-Factory-Production-Optimization)\n",
    "- [Example: Investment Portfolio Optimization](#Example:-Investment-Portfolio-Optimization)\n",
    "\n",
    "SCIP (Solving Constraint Integer Programs) is a high-performance solver for Mixed-Integer Linear Programming (MILP), Linear Programming (LP), and Constraint Programming (CP), developed at the Zuse Institute Berlin. It combines Branch-and-Bound, cutting planes, and heuristic methods to efficiently solve large-scale optimization problems. Widely used in academia and industry, SCIP is a free and flexible alternative to commercial solvers like Gurobi and CPLEX, making it ideal for applications in supply chain optimization, scheduling, and machine learning. Through its Python API (pyscipopt), SCIP integrates seamlessly with modern computational workflows.\n",
    "\n",
    "In python, in order to use SCIP, you need to install the following package:\n",
    "```bash\n",
    "pip install pyscipopt\n",
    "```\n",
    "\n"
   ],
   "id": "c82620441d227b3a"
  },
  {
   "metadata": {},
   "cell_type": "markdown",
   "source": [
    "## Example: Factory Production Optimization\n",
    "\n",
    "In this example, we solve a more complex production planning problem where a factory manufactures three products (A, B, and C). Each product requires labor hours, raw materials, and machine time, and the goal is to maximize total profit while respecting the available resources. The problem is formulated as a Mixed-Integer Linear Program (MILP), where the decision variables (number of units produced) are integer values. SCIP efficiently solves the problem using Branch-and-Bound and cutting-plane methods.\n",
    "\n",
    "The problem is defined as follows:\n",
    "\n",
    "A factory produces three products (A, B, and C) with the following characteristics:\n",
    "\n",
    "| Product | Profit per Unit | Labor | Raw Material | Machine Time |  \n",
    "| ----------- | ---------------- | ----------------- | ------------------------ | ------------------------ |  \n",
    "| A       | 7                | 2                 | 3                        | 1                        |  \n",
    "| B      | 5                | 3                 | 2                        | 2                        |  \n",
    "| C       | 4                | 1                 | 2                        | 2                        |  \n",
    "\n",
    "The factory has total resource constraints:\n",
    "- Labor: 15 hours\n",
    "- Material: 10 units\n",
    "- Machine Time: 10 hours\n",
    "\n",
    "The objective is to determine the optimal number of units of each product to produce to maximize total profit, while ensuring resource limits are not exceeded.\n"
   ],
   "id": "6088baffd17b4a08"
  },
  {
   "cell_type": "code",
   "id": "initial_id",
   "metadata": {
    "collapsed": true,
    "ExecuteTime": {
     "end_time": "2025-03-19T00:24:30.068494Z",
     "start_time": "2025-03-19T00:24:30.012868Z"
    }
   },
   "source": [
    "from pyscipopt import Model\n",
    "\n",
    "# Create SCIP model\n",
    "model = Model(\"Factory Production Optimization\")\n",
    "\n",
    "# Define decision variables (integer: number of units produced)\n",
    "A = model.addVar(\"A\", vtype=\"I\", lb=0)\n",
    "B = model.addVar(\"B\", vtype=\"I\", lb=0)\n",
    "C = model.addVar(\"C\", vtype=\"I\", lb=0)\n",
    "\n",
    "# Set objective function: Maximize profit\n",
    "model.setObjective(7 * A + 5 * B + 4 * C, \"maximize\")\n",
    "\n",
    "# Add constraints for resources\n",
    "model.addCons(2 * A + 3 * B + 1 * C <= 15, \"Labor Constraint\")        # Labor constraint\n",
    "model.addCons(3 * A + 2 * B + 2 * C <= 10, \"Material Constraint\")     # Raw material constraint\n",
    "model.addCons(1 * A + 2 * B + 2 * C <= 10, \"Machine Time Constraint\") # Machine time constraint\n",
    "\n",
    "# Solve model\n",
    "model.optimize()\n",
    "\n",
    "# Print solution\n",
    "if model.getStatus() == \"optimal\":\n",
    "    print(\"Optimal Production Plan:\")\n",
    "    print(f\"Produce {int(model.getVal(A))} units of Product A\")\n",
    "    print(f\"Produce {int(model.getVal(B))} units of Product B\")\n",
    "    print(f\"Produce {int(model.getVal(C))} units of Product C\")\n",
    "    print(f\"Maximum Profit: {model.getObjVal()}\")\n",
    "else:\n",
    "    print(\"No optimal solution found.\")"
   ],
   "outputs": [
    {
     "name": "stdout",
     "output_type": "stream",
     "text": [
      "Optimal Production Plan:feasible solution found by trivial heuristic after 0.0 seconds, objective value 0.000000e+00\n",
      "presolving:\n",
      "(round 1, fast)       0 del vars, 0 del conss, 0 add conss, 5 chg bounds, 0 chg sides, 0 chg coeffs, 0 upgd conss, 0 impls, 0 clqs\n",
      "(round 2, exhaustive) 0 del vars, 1 del conss, 0 add conss, 5 chg bounds, 1 chg sides, 0 chg coeffs, 0 upgd conss, 0 impls, 0 clqs\n",
      "   (0.0s) symmetry computation started: requiring (bin +, int +, cont +), (fixed: bin -, int -, cont -)\n",
      "   (0.0s) no symmetry present (symcode time: 0.00)\n",
      "presolving (3 rounds: 3 fast, 2 medium, 2 exhaustive):\n",
      " 0 deleted vars, 1 deleted constraints, 0 added constraints, 5 tightened bounds, 0 added holes, 1 changed sides, 0 changed coefficients\n",
      " 0 implications, 0 cliques\n",
      "presolved problem has 3 variables (0 bin, 3 int, 0 impl, 0 cont) and 2 constraints\n",
      "      2 constraints of type <linear>\n",
      "transformed objective value is always integral (scale: 1)\n",
      "Presolving Time: 0.00\n",
      "transformed 1/1 original solutions to the transformed problem space\n",
      "\n",
      " time | node  | left  |LP iter|LP it/n|mem/heur|mdpt |vars |cons |rows |cuts |sepa|confs|strbr|  dualbound   | primalbound  |  gap   | compl. \n",
      "i 0.0s|     1 |     0 |     0 |     - |  oneopt|   0 |   3 |   2 |   2 |   0 |  0 |   0 |   0 | 6.600000e+01 | 2.500000e+01 | 164.00%| unknown\n",
      "  0.0s|     1 |     0 |     1 |     - |   604k |   0 |   3 |   2 |   2 |   0 |  0 |   0 |   0 | 2.500000e+01 | 2.500000e+01 |   0.00%| unknown\n",
      "\n",
      "SCIP Status        : problem is solved [optimal solution found]\n",
      "Solving Time (sec) : 0.00\n",
      "Solving Nodes      : 1\n",
      "Primal Bound       : +2.50000000000000e+01 (2 solutions)\n",
      "Dual Bound         : +2.50000000000000e+01\n",
      "Gap                : 0.00 %\n",
      "\n",
      "Produce 0 units of Product A\n",
      "Produce 5 units of Product B\n",
      "Produce 0 units of Product C\n",
      "Maximum Profit: 25.0\n"
     ]
    }
   ],
   "execution_count": 2
  },
  {
   "metadata": {},
   "cell_type": "markdown",
   "source": [
    "The SCIP solver successfully found the optimal production plan, maximizing the factory’s profit while satisfying resource constraints. The solver determined that the best strategy is to produce 5 units of Product B, while producing 0 units of Products A and C. This results in a maximum profit of $25. The solution was found efficiently, with SCIP identifying the optimal result in 0.00 seconds using heuristic methods and presolving techniques, indicating a relatively simple problem structure.\n",
    "\n",
    "From the solver’s output, we can see that the primal and dual bounds are equal (both at 25.0), and the optimality gap is 0%, confirming that this is indeed the best possible solution. The presolving step reduced the problem by simplifying constraints and tightening bounds, making it computationally efficient. The choice of producing only Product B suggests that it provides the highest profit relative to its resource consumption, making it the most economical option under the given constraints."
   ],
   "id": "40e0de5b974b5e89"
  },
  {
   "metadata": {},
   "cell_type": "markdown",
   "source": [
    "## Example: Investment Portfolio Optimization\n",
    "\n",
    "A company has **$10,000 to invest** in three different assets (**Stocks, Bonds, and Real Estate**). Each investment has an expected **return on investment (ROI)** and a **risk factor**. The goal is to **maximize total ROI while keeping the total risk below a certain threshold**.\n",
    "\n",
    "The available assets have the following characteristics:\n",
    "\n",
    "| Investment | Expected ROI | Risk Factor | Minimum Investment | Maximum Investment |  \n",
    "|-------|------------------|-------------|------------------|------------------|  \n",
    "| Stocks | 12               | 8           | 2,000            | 6,000            |  \n",
    "| Bonds | 5                | 2           | 1,000            | 5,000            |  \n",
    "| Real Estate | 8                | 5           | 3,000            | 7,000            |  \n",
    "\n",
    "The company wants to **maximize ROI** while ensuring the **total risk factor does not exceed 20**."
   ],
   "id": "ec0f63942e5a00a3"
  },
  {
   "metadata": {
    "ExecuteTime": {
     "end_time": "2025-03-19T00:35:48.845239Z",
     "start_time": "2025-03-19T00:35:48.837240Z"
    }
   },
   "cell_type": "code",
   "source": [
    "# Create SCIP model\n",
    "model = Model(\"Investment Portfolio Optimization\")\n",
    "\n",
    "# Define decision variables (amount invested in each asset)\n",
    "Stocks = model.addVar(\"Stocks\", vtype=\"C\", lb=2000, ub=6000)\n",
    "Bonds = model.addVar(\"Bonds\", vtype=\"C\", lb=1000, ub=5000)\n",
    "RealEstate = model.addVar(\"RealEstate\", vtype=\"C\", lb=3000, ub=7000)\n",
    "\n",
    "# Set objective function: Maximize ROI\n",
    "model.setObjective(0.12 * Stocks + 0.05 * Bonds + 0.08 * RealEstate, \"maximize\")\n",
    "\n",
    "# Add constraints\n",
    "model.addCons(Stocks + Bonds + RealEstate <= 10000, \"Total Investment Constraint\")  # Budget constraint\n",
    "model.addCons(8 * Stocks + 2 * Bonds + 5 * RealEstate <= 20 * 10000, \"Risk Constraint\")  # Risk constraint\n",
    "\n",
    "# Solve model\n",
    "model.optimize()\n",
    "\n",
    "# Print solution\n",
    "if model.getStatus() == \"optimal\":\n",
    "    print(\"Optimal Investment Strategy:\")\n",
    "    print(f\"Invest ${model.getVal(Stocks):.2f} in Stocks\")\n",
    "    print(f\"Invest ${model.getVal(Bonds):.2f} in Bonds\")\n",
    "    print(f\"Invest ${model.getVal(RealEstate):.2f} in Real Estate\")\n",
    "    print(f\"Maximum ROI: ${model.getObjVal():.2f}\")\n",
    "else:\n",
    "    print(\"No optimal solution found.\")"
   ],
   "id": "61b25d1c41aa657e",
   "outputs": [
    {
     "name": "stdout",
     "output_type": "stream",
     "text": [
      "Optimal Investment Strategy:feasible solution found by trivial heuristic after 0.0 seconds, objective value 5.300000e+02\n",
      "presolving:\n",
      "\n",
      "Invest $6000.00 in Stocks\n",
      "Invest $1000.00 in Bonds\n",
      "Invest $3000.00 in Real Estate\n",
      "Maximum ROI: $1010.00\n",
      "(round 1, fast)       0 del vars, 1 del conss, 0 add conss, 0 chg bounds, 0 chg sides, 0 chg coeffs, 0 upgd conss, 0 impls, 0 clqs\n",
      "presolving (2 rounds: 2 fast, 1 medium, 1 exhaustive):\n",
      " 3 deleted vars, 2 deleted constraints, 0 added constraints, 0 tightened bounds, 0 added holes, 0 changed sides, 0 changed coefficients\n",
      " 0 implications, 0 cliques\n",
      "transformed 1/2 original solutions to the transformed problem space\n",
      "Presolving Time: 0.00\n",
      "\n",
      "SCIP Status        : problem is solved [optimal solution found]\n",
      "Solving Time (sec) : 0.00\n",
      "Solving Nodes      : 0\n",
      "Primal Bound       : +1.01000000000000e+03 (2 solutions)\n",
      "Dual Bound         : +1.01000000000000e+03\n",
      "Gap                : 0.00 %\n"
     ]
    }
   ],
   "execution_count": 3
  },
  {
   "metadata": {},
   "cell_type": "markdown",
   "source": [
    "SCIP successfully found the optimal investment strategy, allocating \\\\$6,000 to Stocks, \\\\$1,000 to Bonds, and \\\\$3,000 to Real Estate, yielding a maximum return on investment (ROI) of \\\\$1,010. The solver identified this solution efficiently, with zero solving nodes and an optimality gap of 0%, meaning the result is proven to be the best possible allocation under the given constraints. The primal and dual bounds match, confirming that no better feasible solution exists.\n",
    "\n",
    "The allocation strategy indicates that stocks offer the highest return per dollar within the allowed risk limits, which is why SCIP allocated the maximum permissible amount (\\\\$6,000) to them. The remaining budget is spread across Real Estate (\\\\$3,000) and Bonds (\\\\$1,000) to ensure the total investment remains within \\\\$10,000 while keeping risk under control. The solver’s presolving phase removed redundant constraints and variables, making the problem computationally efficient to solve. This result highlights how optimization models can be used in financial decision-making, providing a structured approach to maximizing returns while considering risk constraints. "
   ],
   "id": "f30a8f4ad40efd8a"
  },
  {
   "metadata": {},
   "cell_type": "code",
   "outputs": [],
   "execution_count": null,
   "source": "",
   "id": "60b86913e740ab2c"
  }
 ],
 "metadata": {
  "kernelspec": {
   "display_name": "Python 3",
   "language": "python",
   "name": "python3"
  },
  "language_info": {
   "codemirror_mode": {
    "name": "ipython",
    "version": 2
   },
   "file_extension": ".py",
   "mimetype": "text/x-python",
   "name": "python",
   "nbconvert_exporter": "python",
   "pygments_lexer": "ipython2",
   "version": "2.7.6"
  }
 },
 "nbformat": 4,
 "nbformat_minor": 5
}
