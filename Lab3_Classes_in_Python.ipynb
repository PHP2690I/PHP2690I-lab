{
 "cells": [
  {
   "metadata": {},
   "cell_type": "markdown",
   "source": [
    "# Lab 3 Writing Classes in Python\n",
    "\n",
    "In this lab, you will learn how to write classes in Python. In detail, you will learn the following topics:\n",
    "\n",
    "- [Defining a Class](#Defining-a-Class)\n",
    "- [Object-Oriented Programming (OOP)](#Object-Oriented-Programming)\n",
    "- [Inside a Class](#Inside-a-Class)\n",
    "    - [Constructor](#Constructor)\n",
    "    - [Attributes](#Attributes)\n",
    "    - [Methods](#Methods)\n",
    "- [Inheritance](#Inheritance)\n",
    "- [Advanced Topics](#Advanced-Topics)\n",
    "    - [Property Decorators](#Property-Decorators)\n",
    "    - [Magic Methods](#Magic-Methods)\n",
    "- [Some Practice](#Some-Practice)\n",
    "    - [Merge Two Sorted Lists](#Merge-Two-Sorted-Lists)\n",
    "    - [Reverse Linked List](#Reverse-Linked-List)"
   ],
   "id": "aabaa023b3b0cef0"
  },
  {
   "metadata": {},
   "cell_type": "markdown",
   "source": [
    "## Defining a Class\n",
    "\n",
    "Defining a class in Python is quite simple. Start with the `class` keyword, followed by the class name and a colon. The class body is indented. Here is an example of a simple class definition:\n"
   ],
   "id": "9b16766b1951f565"
  },
  {
   "metadata": {
    "ExecuteTime": {
     "end_time": "2025-01-29T16:17:59.813722Z",
     "start_time": "2025-01-29T16:17:59.811273Z"
    }
   },
   "cell_type": "code",
   "source": [
    "class Person:\n",
    "    def __init__(self, name, age):\n",
    "        self.name = name\n",
    "        self.age = age\n",
    "\n",
    "    def say_hello(self):\n",
    "        print(f'Hello, my name is {self.name} and I am {self.age} years old.')"
   ],
   "id": "86eb0e7dbbb6cfc4",
   "outputs": [],
   "execution_count": 2
  },
  {
   "metadata": {
    "ExecuteTime": {
     "end_time": "2025-01-29T16:18:00.290776Z",
     "start_time": "2025-01-29T16:18:00.288712Z"
    }
   },
   "cell_type": "code",
   "source": [
    "new_person = Person('Alice', 30)\n",
    "new_person.say_hello()"
   ],
   "id": "37dd1c3bb73186dd",
   "outputs": [
    {
     "name": "stdout",
     "output_type": "stream",
     "text": [
      "Hello, my name is Alice and I am 30 years old.\n"
     ]
    }
   ],
   "execution_count": 3
  },
  {
   "metadata": {},
   "cell_type": "markdown",
   "source": [
    "## Object-Oriented Programming\n",
    "\n",
    "Object-oriented programming (OOP) is a programming paradigm based on the concept of \"objects\", which can contain data, in the form of fields (often known as attributes or properties), and code, in the form of procedures (often known as methods). A feature of objects is an object's procedures that can access and often modify the data fields of the object with which they are associated (objects have a notion of \"this\" or \"self\"). In OOP, computer programs are designed by making them out of objects that interact with one another. OOP languages are diverse, but the most popular ones are class-based, meaning that objects are instances of classes, which also determine their types.\n",
    "\n",
    "Many of the most widely used programming languages (such as C++, Java and Python) are multi-paradigm and support object-oriented programming to a greater or lesser degree, typically in combination with imperative programming and declarative programming.\n",
    "\n",
    "The concept of \"objects\" is very easy to understand. For example, a car is an object. It has properties such as weight and color, and methods such as drive and brake. A car is an instance of the class Car. The class Car defines the properties and methods that all cars have."
   ],
   "id": "d14dcd925d4636e5"
  },
  {
   "metadata": {
    "ExecuteTime": {
     "end_time": "2025-01-26T05:03:37.693092Z",
     "start_time": "2025-01-26T05:03:37.690151Z"
    }
   },
   "cell_type": "code",
   "source": [
    "class Car:\n",
    "    def __init__(self, color, weight):\n",
    "        self.color = color\n",
    "        self.weight = weight\n",
    "        self.speed = 0\n",
    "\n",
    "    def drive(self, speed):\n",
    "        self.speed = speed\n",
    "        print(f'Speed up to {speed} mph...')\n",
    "\n",
    "    def brake(self, speed):\n",
    "        self.speed = self.speed - speed\n",
    "        print(f'Slowing down to {self.speed} mph...')"
   ],
   "id": "f602e1a5ef75c450",
   "outputs": [],
   "execution_count": 2
  },
  {
   "metadata": {
    "ExecuteTime": {
     "end_time": "2025-01-26T05:03:38.249877Z",
     "start_time": "2025-01-26T05:03:38.247884Z"
    }
   },
   "cell_type": "code",
   "source": [
    "my_car = Car('blue', 2000)\n",
    "my_car.drive(50)\n",
    "my_car.brake(10)"
   ],
   "id": "e33116b30e782cbe",
   "outputs": [
    {
     "name": "stdout",
     "output_type": "stream",
     "text": [
      "Speed up to 50 mph...\n",
      "Slowing down to 40 mph...\n"
     ]
    }
   ],
   "execution_count": 3
  },
  {
   "metadata": {},
   "cell_type": "markdown",
   "source": "Another example of a class definition is the `Rectangle` class. The class has two attributes, `width` and `height`, and two methods, `area` and `perimeter`. The `area` method calculates the area of the rectangle, and the `perimeter` method calculates the perimeter of the rectangle.",
   "id": "df9aec3a622de51c"
  },
  {
   "cell_type": "code",
   "id": "initial_id",
   "metadata": {
    "collapsed": true,
    "ExecuteTime": {
     "end_time": "2025-01-26T05:04:37.674345Z",
     "start_time": "2025-01-26T05:04:37.671275Z"
    }
   },
   "source": [
    "class Rectangle:\n",
    "    def __init__(self, width, height):\n",
    "        self.width = width\n",
    "        self.height = height\n",
    "\n",
    "    def area(self):\n",
    "        return self.width * self.height\n",
    "\n",
    "    def perimeter(self):\n",
    "        return 2 * (self.width + self.height)"
   ],
   "outputs": [],
   "execution_count": 4
  },
  {
   "metadata": {
    "ExecuteTime": {
     "end_time": "2025-01-26T05:04:42.134657Z",
     "start_time": "2025-01-26T05:04:42.132652Z"
    }
   },
   "cell_type": "code",
   "source": [
    "rect = Rectangle(10, 20)\n",
    "print(rect.area())\n",
    "print(rect.perimeter())"
   ],
   "id": "3d9d1adb53589801",
   "outputs": [
    {
     "name": "stdout",
     "output_type": "stream",
     "text": [
      "200\n",
      "60\n"
     ]
    }
   ],
   "execution_count": 5
  },
  {
   "metadata": {},
   "cell_type": "markdown",
   "source": [
    "## Inside a Class\n",
    "\n",
    "### Constructor\n",
    "\n",
    "The `__init__` method is a special method in Python classes. It is called a constructor method and is used to initialize the object's state. This is a very important part because it essentially gives the birth to the object. The `__init__` method is called when an object is created from the class, and it allows the class to initialize the attributes of the class. The `self` parameter is a reference to the current instance of the class and is used to access variables that belong to the class. It does not have to be named `self`, but it is the standard convention.\n",
    "\n",
    "Using the `__init__` method, you can initialize the object's attributes. In the `Person` class, the `__init__` method initializes the `name` and `age` attributes. In the `Car` class, the `__init__` method initializes the `color`, `weight`, and `speed` attributes. In the `Rectangle` class, the `__init__` method initializes the `width` and `height` attributes. So, usually, the `__init__` method is used to initialize the object's attributes. With the following code, you can pass the values of the attributes when creating an object of the class.\n",
    "\n",
    "```python\n",
    "def __init__(self, attribute1, attribute2):\n",
    "    self.attribute1 = attribute1\n",
    "    self.attribute2 = attribute2\n",
    "```"
   ],
   "id": "8fd946d905a1fd0f"
  },
  {
   "metadata": {},
   "cell_type": "markdown",
   "source": [
    "### Attributes\n",
    "\n",
    "Attributes are variables that belong to an object. They are used to store data that is associated with the object. For example, in the `Person` class, the `name` and `age` attributes store the name and age of the person. In the `Car` class, the `color`, `weight`, and `speed` attributes store the color, weight, and speed of the car. In the `Rectangle` class, the `width` and `height` attributes store the width and height of the rectangle.\n",
    "\n",
    "You define attributes inside the `__init__` method using the `self` parameter. When you want to use it in the class, you can access it using the `self` parameter. For example, `self.name` refers to the `name` attribute of the object."
   ],
   "id": "3651fa1800f18c65"
  },
  {
   "metadata": {
    "ExecuteTime": {
     "end_time": "2025-01-26T21:17:52.893246Z",
     "start_time": "2025-01-26T21:17:52.873257Z"
    }
   },
   "cell_type": "code",
   "source": [
    "class Rectangle:\n",
    "    def __init__(self, width, height):\n",
    "        self.width = width\n",
    "        self.height = height\n",
    "\n",
    "    def area(self):\n",
    "        # we can access the width and height attributes using the self parameter\n",
    "        return self.width * self.height"
   ],
   "id": "d454f257370c37ea",
   "outputs": [],
   "execution_count": 6
  },
  {
   "metadata": {},
   "cell_type": "markdown",
   "source": "And you can also access the attributes outside the class using the dot notation. For example, `rect.width` refers to the `width` attribute of the `rect` object.",
   "id": "7948fa9134205f19"
  },
  {
   "metadata": {
    "ExecuteTime": {
     "end_time": "2025-01-26T21:17:54.521076Z",
     "start_time": "2025-01-26T21:17:54.519003Z"
    }
   },
   "cell_type": "code",
   "source": [
    "rect = Rectangle(10, 20)\n",
    "print(rect.width)"
   ],
   "id": "5465863cec5ff914",
   "outputs": [
    {
     "name": "stdout",
     "output_type": "stream",
     "text": [
      "10\n"
     ]
    }
   ],
   "execution_count": 7
  },
  {
   "metadata": {},
   "cell_type": "markdown",
   "source": "You can even change the value of an attribute outside the class. For example, `rect.width = 30` changes the value of the `width` attribute of the `rect` object to 30.",
   "id": "9a70685890bb0082"
  },
  {
   "metadata": {
    "ExecuteTime": {
     "end_time": "2025-01-27T02:46:56.485231Z",
     "start_time": "2025-01-27T02:46:56.475348Z"
    }
   },
   "cell_type": "code",
   "source": [
    "rect.width = 30\n",
    "print(rect.width)"
   ],
   "id": "a7e25bcc17e7a9a4",
   "outputs": [
    {
     "name": "stdout",
     "output_type": "stream",
     "text": [
      "30\n"
     ]
    }
   ],
   "execution_count": 8
  },
  {
   "metadata": {},
   "cell_type": "markdown",
   "source": "However, sometimes you don't want to allow the attributes to be changed from outside the class. You can make an attribute private by prefixing it with two underscores. For example, `self.__width` makes the `width` attribute private. You can still access the private attribute inside the class, but you cannot access it outside the class. If you try to access it outside the class, you will get an error. And functions can also be private in the same way.",
   "id": "515a7c030a2cd581"
  },
  {
   "metadata": {
    "ExecuteTime": {
     "end_time": "2025-01-27T02:48:21.500433Z",
     "start_time": "2025-01-27T02:48:21.497695Z"
    }
   },
   "cell_type": "code",
   "source": [
    "class Rectangle:\n",
    "    def __init__(self, width, height):\n",
    "        self.__width = width\n",
    "        self.__height = height\n",
    "\n",
    "    def area(self):\n",
    "        return self.__width * self.__height"
   ],
   "id": "a61b487ba650af",
   "outputs": [],
   "execution_count": 9
  },
  {
   "metadata": {
    "ExecuteTime": {
     "end_time": "2025-01-27T02:48:37.960385Z",
     "start_time": "2025-01-27T02:48:37.945141Z"
    }
   },
   "cell_type": "code",
   "source": [
    "rect = Rectangle(10, 20)\n",
    "print(rect.area())\n",
    "print(rect.__width)"
   ],
   "id": "ae0987257011291d",
   "outputs": [
    {
     "name": "stdout",
     "output_type": "stream",
     "text": [
      "200\n"
     ]
    },
    {
     "ename": "AttributeError",
     "evalue": "'Rectangle' object has no attribute '__width'",
     "output_type": "error",
     "traceback": [
      "\u001B[0;31m---------------------------------------------------------------------------\u001B[0m",
      "\u001B[0;31mAttributeError\u001B[0m                            Traceback (most recent call last)",
      "Cell \u001B[0;32mIn[10], line 3\u001B[0m\n\u001B[1;32m      1\u001B[0m rect \u001B[38;5;241m=\u001B[39m Rectangle(\u001B[38;5;241m10\u001B[39m, \u001B[38;5;241m20\u001B[39m)\n\u001B[1;32m      2\u001B[0m \u001B[38;5;28mprint\u001B[39m(rect\u001B[38;5;241m.\u001B[39marea())\n\u001B[0;32m----> 3\u001B[0m \u001B[38;5;28mprint\u001B[39m(rect\u001B[38;5;241m.\u001B[39m__width)\n",
      "\u001B[0;31mAttributeError\u001B[0m: 'Rectangle' object has no attribute '__width'"
     ]
    }
   ],
   "execution_count": 10
  },
  {
   "metadata": {},
   "cell_type": "markdown",
   "source": [
    "### Methods\n",
    "\n",
    "Methods are functions that belong to an object. They are used to define the behavior of the object. For example, in the `Person` class, the `say_hello` method defines the behavior of the person. In the `Car` class, the `drive` and `brake` methods define the behavior of the car. In the `Rectangle` class, the `area` and `perimeter` methods define the behavior of the rectangle. As shown in the previous examples, you define methods inside the class using the `def` keyword. You can call a method using the dot notation. For example, `my_car.drive(50)` calls the `drive` method of the `my_car` object with the argument 50."
   ],
   "id": "7e70346daa160e9f"
  },
  {
   "metadata": {},
   "cell_type": "markdown",
   "source": [
    "## Inheritance\n",
    "\n",
    "Inheritance is a mechanism in which one class acquires the properties and behavior of another class. It allows you to define a new class that is a modified version of an existing class. The existing class is called the base class or superclass, and the new class is called the derived class or subclass. The derived class inherits the attributes and methods of the base class and can also have its own attributes and methods. Inheritance allows you to reuse code and build upon existing classes.\n",
    "\n",
    "For example, you define a `Car` class with the `drive` and `brake` methods. Then you define a `Tesla` class that inherits from the `Car` class and adds the `autopilot` method. The `Tesla` class has all the attributes and methods of the `Car` class, as well as its own attributes and methods. "
   ],
   "id": "b69dc30f21263dd1"
  },
  {
   "metadata": {
    "ExecuteTime": {
     "end_time": "2025-01-27T03:15:52.793209Z",
     "start_time": "2025-01-27T03:15:52.789757Z"
    }
   },
   "cell_type": "code",
   "source": [
    "class Car:\n",
    "    def __init__(self, color, weight):\n",
    "        self.color = color\n",
    "        self.weight = weight\n",
    "        self.speed = 0\n",
    "\n",
    "    def drive(self, speed):\n",
    "        self.speed = speed\n",
    "        print(f'Speed up to {speed} mph...')\n",
    "\n",
    "    def brake(self, speed):\n",
    "        self.speed = self.speed - speed\n",
    "        print(f'Slowing down to {self.speed} mph...')\n",
    "\n",
    "\n",
    "class Tesla(Car):\n",
    "    def autopilot(self):\n",
    "        if self.speed > 50:\n",
    "            self.speed = 50\n",
    "            print('Autopilot works at 50 mph...')\n",
    "        else:\n",
    "            print(f'Autopilot works at {self.speed} mph...')"
   ],
   "id": "596043b8171626e0",
   "outputs": [],
   "execution_count": 15
  },
  {
   "metadata": {
    "ExecuteTime": {
     "end_time": "2025-01-27T03:16:21.970085Z",
     "start_time": "2025-01-27T03:16:21.967572Z"
    }
   },
   "cell_type": "code",
   "source": [
    "my_tesla = Tesla('red', 3000)  # Tesla object inherits from Car class and has the same constructor\n",
    "my_tesla.drive(60)\n",
    "my_tesla.autopilot()"
   ],
   "id": "74da40d71d9f9ee0",
   "outputs": [
    {
     "name": "stdout",
     "output_type": "stream",
     "text": [
      "Speed up to 60 mph...\n",
      "Autopilot works at 50 mph...\n"
     ]
    }
   ],
   "execution_count": 17
  },
  {
   "metadata": {},
   "cell_type": "markdown",
   "source": [
    "## Advanced Topics\n",
    "\n",
    "### Property Decorators\n",
    "\n",
    "In Python, you can use property decorators to define properties of a class. A property is a special kind of attribute that computes its value when accessed. You can define a property using the `@property` decorator. The property decorator allows you to define a method that can be accessed like an attribute. For example, you can define a `Rectangle` class with the `width` and `height` attributes and the `area` property. The `area` property calculates the area of the rectangle when accessed. You can access the `area` property like an attribute, without using parentheses."
   ],
   "id": "e66afd5c8f99be64"
  },
  {
   "metadata": {
    "ExecuteTime": {
     "end_time": "2025-01-27T03:55:36.700966Z",
     "start_time": "2025-01-27T03:55:36.696262Z"
    }
   },
   "cell_type": "code",
   "source": [
    "class Rectangle:\n",
    "    def __init__(self, width, height):\n",
    "        self.width = width\n",
    "        self.height = height\n",
    "\n",
    "    @property\n",
    "    def area(self):\n",
    "        return self.width * self.height"
   ],
   "id": "6fd6c273a1be4d84",
   "outputs": [],
   "execution_count": 18
  },
  {
   "metadata": {
    "ExecuteTime": {
     "end_time": "2025-01-27T03:55:41.149865Z",
     "start_time": "2025-01-27T03:55:41.146948Z"
    }
   },
   "cell_type": "code",
   "source": [
    "rect = Rectangle(10, 20)\n",
    "print(rect.area)"
   ],
   "id": "79a4699010bd5dd8",
   "outputs": [
    {
     "name": "stdout",
     "output_type": "stream",
     "text": [
      "200\n"
     ]
    }
   ],
   "execution_count": 19
  },
  {
   "metadata": {},
   "cell_type": "markdown",
   "source": "You can also define a getter and setter for the property. The getter method is called when the property is accessed, and the setter method is called when the property is assigned a value. ",
   "id": "d0b562186d303668"
  },
  {
   "metadata": {
    "ExecuteTime": {
     "end_time": "2025-01-27T04:00:23.683342Z",
     "start_time": "2025-01-27T04:00:23.680383Z"
    }
   },
   "cell_type": "code",
   "source": [
    "class Person:\n",
    "    def __init__(self, name, age):\n",
    "        self._name = name\n",
    "        self._age = age\n",
    "\n",
    "    @property\n",
    "    def age(self):\n",
    "        return self._age\n",
    "\n",
    "    @age.setter\n",
    "    def age(self, value):\n",
    "        if value < 0:\n",
    "            raise ValueError(\"Age cannot be negative\")\n",
    "        self._age = value"
   ],
   "id": "386e247a3fb8f4a9",
   "outputs": [],
   "execution_count": 23
  },
  {
   "metadata": {
    "ExecuteTime": {
     "end_time": "2025-01-27T04:00:24.107824Z",
     "start_time": "2025-01-27T04:00:24.097428Z"
    }
   },
   "cell_type": "code",
   "source": [
    "person = Person('Alice', 30)\n",
    "print(person.age)\n",
    "person.age = -10"
   ],
   "id": "3def9fd05ab49e4d",
   "outputs": [
    {
     "name": "stdout",
     "output_type": "stream",
     "text": [
      "30\n"
     ]
    },
    {
     "ename": "ValueError",
     "evalue": "Age cannot be negative",
     "output_type": "error",
     "traceback": [
      "\u001B[0;31m---------------------------------------------------------------------------\u001B[0m",
      "\u001B[0;31mValueError\u001B[0m                                Traceback (most recent call last)",
      "Cell \u001B[0;32mIn[24], line 3\u001B[0m\n\u001B[1;32m      1\u001B[0m person \u001B[38;5;241m=\u001B[39m Person(\u001B[38;5;124m'\u001B[39m\u001B[38;5;124mAlice\u001B[39m\u001B[38;5;124m'\u001B[39m, \u001B[38;5;241m30\u001B[39m)\n\u001B[1;32m      2\u001B[0m \u001B[38;5;28mprint\u001B[39m(person\u001B[38;5;241m.\u001B[39mage)\n\u001B[0;32m----> 3\u001B[0m person\u001B[38;5;241m.\u001B[39mage \u001B[38;5;241m=\u001B[39m \u001B[38;5;241m-\u001B[39m\u001B[38;5;241m10\u001B[39m\n",
      "Cell \u001B[0;32mIn[23], line 13\u001B[0m, in \u001B[0;36mPerson.age\u001B[0;34m(self, value)\u001B[0m\n\u001B[1;32m     10\u001B[0m \u001B[38;5;129m@age\u001B[39m\u001B[38;5;241m.\u001B[39msetter\n\u001B[1;32m     11\u001B[0m \u001B[38;5;28;01mdef\u001B[39;00m \u001B[38;5;21mage\u001B[39m(\u001B[38;5;28mself\u001B[39m, value):\n\u001B[1;32m     12\u001B[0m     \u001B[38;5;28;01mif\u001B[39;00m value \u001B[38;5;241m<\u001B[39m \u001B[38;5;241m0\u001B[39m:\n\u001B[0;32m---> 13\u001B[0m         \u001B[38;5;28;01mraise\u001B[39;00m \u001B[38;5;167;01mValueError\u001B[39;00m(\u001B[38;5;124m\"\u001B[39m\u001B[38;5;124mAge cannot be negative\u001B[39m\u001B[38;5;124m\"\u001B[39m)\n\u001B[1;32m     14\u001B[0m     \u001B[38;5;28mself\u001B[39m\u001B[38;5;241m.\u001B[39m_age \u001B[38;5;241m=\u001B[39m value\n",
      "\u001B[0;31mValueError\u001B[0m: Age cannot be negative"
     ]
    }
   ],
   "execution_count": 24
  },
  {
   "metadata": {},
   "cell_type": "markdown",
   "source": [
    "### Magic Methods\n",
    "\n",
    "Magic methods are special methods in Python that start and end with double underscores. They allow you to define the behavior of objects in a class. For example, the `__init__` method is a magic method that is called when an object is created from the class. The `__str__` method is a magic method that is called when an object is converted to a string. You can define magic methods in your class to customize the behavior of objects. For example, you want to compare two person with their age. You can define the `__eq__` , `__gt__`, `__lt__` methods to compare two objects."
   ],
   "id": "8484613e50306612"
  },
  {
   "metadata": {
    "ExecuteTime": {
     "end_time": "2025-01-27T04:03:59.650452Z",
     "start_time": "2025-01-27T04:03:59.648082Z"
    }
   },
   "cell_type": "code",
   "source": [
    "class Person:\n",
    "    def __init__(self, name, age):\n",
    "        self.name = name\n",
    "        self.age = age\n",
    "\n",
    "    def __eq__(self, other):\n",
    "        return self.age == other.age\n",
    "\n",
    "    def __gt__(self, other):\n",
    "        return self.age > other.age\n",
    "\n",
    "    def __lt__(self, other):\n",
    "        return self.age < other.age"
   ],
   "id": "86891d01bb1ef8f9",
   "outputs": [],
   "execution_count": 28
  },
  {
   "metadata": {
    "ExecuteTime": {
     "end_time": "2025-01-27T04:04:42.401925Z",
     "start_time": "2025-01-27T04:04:42.399360Z"
    }
   },
   "cell_type": "code",
   "source": [
    "person1 = Person('Will', 20)\n",
    "person2 = Person('Bob', 30)\n",
    "print(person1 > person2)\n",
    "print(person1 < person2)"
   ],
   "id": "ad0af1766740e0a4",
   "outputs": [
    {
     "name": "stdout",
     "output_type": "stream",
     "text": [
      "False\n",
      "True\n"
     ]
    }
   ],
   "execution_count": 30
  },
  {
   "metadata": {},
   "cell_type": "markdown",
   "source": "There are many magic methods in Python. You can find a list of them [here](https://docs.python.org/3/reference/datamodel.html#special-method-names).",
   "id": "34c8517fa7a2749f"
  },
  {
   "metadata": {},
   "cell_type": "markdown",
   "source": "## Some Practice",
   "id": "618e81473f7f9749"
  },
  {
   "metadata": {},
   "cell_type": "markdown",
   "source": [
    "### Merge Two Sorted Lists\n",
    "\n",
    "This question is from [LeetCode #21](https://leetcode.com/problems/merge-two-sorted-lists/description/?envType=problem-list-v2&envId=linked-list).\n",
    "\n",
    "A linked list is a data structure that is used to store a collection of elements. Each element in a linked list is called a node. A node consists of two parts: data and a reference to the next node in the sequence. The first node is called the head, and the last node is called the tail. The tail node points to `None`.\n",
    "\n",
    "Now, you are given the heads of two sorted linked lists `list1` and `list2`. Merge the two lists into one sorted list. The list should be made by splicing together the nodes of the first two lists. Return the head of the merged linked list.\n",
    "\n",
    "Example:\n",
    "```\n",
    "Input: list1 = [1,2,4], list2 = [1,3,4]\n",
    "Output: [1,1,2,3,4,4]\n",
    "```\n",
    "\n",
    "```\n",
    "Input: list1 = [], list2 = []\n",
    "Output: []\n",
    "```\n",
    "\n",
    "```\n",
    "Input: list1 = [], list2 = [0]\n",
    "Output: [0]\n",
    "```\n",
    "\n",
    "Constraints:\n",
    "* The number of nodes in `list1` and `list2` is in the range `[0, 50]`.\n",
    "* `-100 <= Node.val <= 100`\n",
    "* Both `list1` and `list2` are sorted in non-decreasing order."
   ],
   "id": "9683c4afca754509"
  },
  {
   "metadata": {
    "ExecuteTime": {
     "end_time": "2025-01-27T04:20:47.134246Z",
     "start_time": "2025-01-27T04:20:47.126633Z"
    }
   },
   "cell_type": "code",
   "source": [
    "class ListNode:\n",
    "    def __init__(self, val=0, next=None):\n",
    "        self.val = val\n",
    "        self.next = next\n",
    "\n",
    "\n",
    "def merge_two_lists(list1, list2):\n",
    "    cur = dummy = ListNode()\n",
    "    while list1 and list2:\n",
    "        if list1.val < list2.val:\n",
    "            cur.next = list1\n",
    "            list1, cur = list1.next, list1\n",
    "        else:\n",
    "            cur.next = list2\n",
    "            list2, cur = list2.next, list2\n",
    "\n",
    "    if list1 or list2:\n",
    "        cur.next = list1 if list1 else list2\n",
    "\n",
    "    return dummy.next"
   ],
   "id": "22a9d5e3cf4976d6",
   "outputs": [],
   "execution_count": 31
  },
  {
   "metadata": {
    "ExecuteTime": {
     "end_time": "2025-01-27T04:21:01.855056Z",
     "start_time": "2025-01-27T04:21:01.851906Z"
    }
   },
   "cell_type": "code",
   "source": [
    "# Test cases 1\n",
    "list1 = ListNode(1, ListNode(2, ListNode(4)))\n",
    "list2 = ListNode(1, ListNode(3, ListNode(4)))\n",
    "result = merge_two_lists(list1, list2)\n",
    "while result:\n",
    "    print(result.val, end=' ')\n",
    "    result = result.next"
   ],
   "id": "885015e84428f435",
   "outputs": [
    {
     "name": "stdout",
     "output_type": "stream",
     "text": [
      "1 1 2 3 4 4 "
     ]
    }
   ],
   "execution_count": 32
  },
  {
   "metadata": {
    "ExecuteTime": {
     "end_time": "2025-01-27T04:21:26.766460Z",
     "start_time": "2025-01-27T04:21:26.763281Z"
    }
   },
   "cell_type": "code",
   "source": [
    "# Test cases 2\n",
    "list1 = None\n",
    "list2 = None\n",
    "result = merge_two_lists(list1, list2)\n",
    "while result:\n",
    "    print(result.val, end=' ')\n",
    "    result = result.next"
   ],
   "id": "54bf7d0e66ecfbe4",
   "outputs": [],
   "execution_count": 33
  },
  {
   "metadata": {
    "ExecuteTime": {
     "end_time": "2025-01-27T04:21:43.757948Z",
     "start_time": "2025-01-27T04:21:43.755869Z"
    }
   },
   "cell_type": "code",
   "source": [
    "# Test cases 3\n",
    "list1 = None\n",
    "list2 = ListNode(0)\n",
    "result = merge_two_lists(list1, list2)\n",
    "while result:\n",
    "    print(result.val, end=' ')\n",
    "    result = result.next"
   ],
   "id": "e231a0422c412680",
   "outputs": [
    {
     "name": "stdout",
     "output_type": "stream",
     "text": [
      "0 "
     ]
    }
   ],
   "execution_count": 34
  },
  {
   "metadata": {},
   "cell_type": "markdown",
   "source": [
    "### Reverse Linked List\n",
    "\n",
    "This question is from [LeetCode #206](https://leetcode.com/problems/reverse-linked-list/description/?envType=problem-list-v2&envId=linked-list).\n",
    "\n",
    "Given the head of a singly linked list, reverse the list, and return the reversed list.\n",
    "\n",
    "Example:\n",
    "```\n",
    "Input: head = [1,2,3,4,5]\n",
    "Output: [5,4,3,2,1]\n",
    "```\n",
    "\n",
    "```\n",
    "Input: head = [1,2]\n",
    "Output: [2,1]\n",
    "```\n",
    "\n",
    "```\n",
    "Input: head = []\n",
    "Output: []\n",
    "```"
   ],
   "id": "e0aa59c08109830a"
  },
  {
   "metadata": {
    "ExecuteTime": {
     "end_time": "2025-01-27T04:27:12.838397Z",
     "start_time": "2025-01-27T04:27:12.833192Z"
    }
   },
   "cell_type": "code",
   "source": [
    "def reverse_linked_list(head):\n",
    "    prev = None\n",
    "    while head:\n",
    "        head.next, prev, head = prev, head, head.next\n",
    "    return prev"
   ],
   "id": "8100686aa542b7c8",
   "outputs": [],
   "execution_count": 35
  },
  {
   "metadata": {
    "ExecuteTime": {
     "end_time": "2025-01-27T04:27:19.026236Z",
     "start_time": "2025-01-27T04:27:19.023816Z"
    }
   },
   "cell_type": "code",
   "source": [
    "# Test cases 1\n",
    "head = ListNode(1, ListNode(2, ListNode(3, ListNode(4, ListNode(5)))))\n",
    "result = reverse_linked_list(head)\n",
    "while result:\n",
    "    print(result.val, end=' ')\n",
    "    result = result.next"
   ],
   "id": "a3b190efc15e8f82",
   "outputs": [
    {
     "name": "stdout",
     "output_type": "stream",
     "text": [
      "5 4 3 2 1 "
     ]
    }
   ],
   "execution_count": 36
  },
  {
   "metadata": {
    "ExecuteTime": {
     "end_time": "2025-01-27T04:27:25.002665Z",
     "start_time": "2025-01-27T04:27:25.000134Z"
    }
   },
   "cell_type": "code",
   "source": [
    "# Test cases 2\n",
    "head = ListNode(1, ListNode(2))\n",
    "result = reverse_linked_list(head)\n",
    "while result:\n",
    "    print(result.val, end=' ')\n",
    "    result = result.next"
   ],
   "id": "521fcdfd511705a3",
   "outputs": [
    {
     "name": "stdout",
     "output_type": "stream",
     "text": [
      "2 1 "
     ]
    }
   ],
   "execution_count": 37
  },
  {
   "metadata": {
    "ExecuteTime": {
     "end_time": "2025-01-27T04:27:32.517584Z",
     "start_time": "2025-01-27T04:27:32.514951Z"
    }
   },
   "cell_type": "code",
   "source": [
    "# Test cases 3\n",
    "head = None\n",
    "result = reverse_linked_list(head)\n",
    "while result:\n",
    "    print(result.val, end=' ')\n",
    "    result = result.next"
   ],
   "id": "378fd3b6f8ea2d93",
   "outputs": [],
   "execution_count": 38
  },
  {
   "metadata": {},
   "cell_type": "code",
   "outputs": [],
   "execution_count": null,
   "source": "",
   "id": "653330fddd00fb0a"
  }
 ],
 "metadata": {
  "kernelspec": {
   "display_name": "Python 3",
   "language": "python",
   "name": "python3"
  },
  "language_info": {
   "codemirror_mode": {
    "name": "ipython",
    "version": 2
   },
   "file_extension": ".py",
   "mimetype": "text/x-python",
   "name": "python",
   "nbconvert_exporter": "python",
   "pygments_lexer": "ipython2",
   "version": "2.7.6"
  }
 },
 "nbformat": 4,
 "nbformat_minor": 5
}
